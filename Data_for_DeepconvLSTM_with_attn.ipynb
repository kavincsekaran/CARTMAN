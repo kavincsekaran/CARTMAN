{
 "cells": [
  {
   "cell_type": "code",
   "execution_count": 1,
   "metadata": {},
   "outputs": [],
   "source": [
    "import numpy as np\n",
    "import os\n",
    "import pandas as pd\n",
    "import pickle"
   ]
  },
  {
   "cell_type": "code",
   "execution_count": 2,
   "metadata": {},
   "outputs": [],
   "source": [
    "DATA_FILES = ['WISDM.npz']\n",
    "MODE = 'LOTO'\n",
    "BASE_DIR = './data/' + MODE + '/'"
   ]
  },
  {
   "cell_type": "code",
   "execution_count": 3,
   "metadata": {},
   "outputs": [],
   "source": [
    "for DATA_FILE in DATA_FILES:\n",
    "    data_input_file = os.path.join(BASE_DIR, DATA_FILE)\n",
    "    tmp = np.load(data_input_file, allow_pickle=True)\n",
    "    X = tmp['X']\n",
    "    X = np.squeeze(X, axis = 1)\n",
    "    y_one_hot = tmp['y']\n",
    "    folds = tmp['folds']\n",
    "\n",
    "    NUM_LABELS = y_one_hot.shape[1]\n"
   ]
  },
  {
   "cell_type": "code",
   "execution_count": 4,
   "metadata": {},
   "outputs": [
    {
     "data": {
      "text/plain": [
       "(20846, 100, 3)"
      ]
     },
     "execution_count": 4,
     "metadata": {},
     "output_type": "execute_result"
    }
   ],
   "source": [
    "X.shape"
   ]
  },
  {
   "cell_type": "code",
   "execution_count": 5,
   "metadata": {},
   "outputs": [
    {
     "data": {
      "text/plain": [
       "(20846, 6)"
      ]
     },
     "execution_count": 5,
     "metadata": {},
     "output_type": "execute_result"
    }
   ],
   "source": [
    "y_one_hot.shape"
   ]
  },
  {
   "cell_type": "code",
   "execution_count": 6,
   "metadata": {},
   "outputs": [
    {
     "data": {
      "text/plain": [
       "array([[array([    0,     1,     2, ..., 20843, 20844, 20845]),\n",
       "        array([   17,    18,    19, ..., 19787, 19788, 19789])],\n",
       "       [array([    0,     1,     2, ..., 20843, 20844, 20845]),\n",
       "        array([  251,   252,   253, ..., 18926, 18927, 18928])],\n",
       "       [array([    0,     1,     2, ..., 20843, 20844, 20845]),\n",
       "        array([  119,   120,   121, ..., 20141, 20142, 20143])],\n",
       "       [array([   17,    18,    19, ..., 20843, 20844, 20845]),\n",
       "        array([    0,     1,     2, ..., 20588, 20589, 20590])],\n",
       "       [array([    0,     1,     2, ..., 20843, 20844, 20845]),\n",
       "        array([  144,   145,   146, ..., 19543, 19544, 19545])],\n",
       "       [array([    0,     1,     2, ..., 20843, 20844, 20845]),\n",
       "        array([  131,   132,   133, ..., 17285, 17286, 17287])],\n",
       "       [array([    0,     1,     2, ..., 20843, 20844, 20845]),\n",
       "        array([   86,    87,    88, ..., 20465, 20466, 20467])],\n",
       "       [array([    0,     1,     2, ..., 20843, 20844, 20845]),\n",
       "        array([  158,   159,   160, ..., 18357, 18358, 18359])],\n",
       "       [array([    0,     1,     2, ..., 20843, 20844, 20845]),\n",
       "        array([   52,    53,    54, ..., 18367, 18368, 18369])],\n",
       "       [array([    0,     1,     2, ..., 20588, 20589, 20590]),\n",
       "        array([  171,   172,   173, ..., 20843, 20844, 20845])]],\n",
       "      dtype=object)"
      ]
     },
     "execution_count": 6,
     "metadata": {},
     "output_type": "execute_result"
    }
   ],
   "source": [
    "folds"
   ]
  },
  {
   "cell_type": "code",
   "execution_count": 7,
   "metadata": {},
   "outputs": [
    {
     "data": {
      "text/plain": [
       "(18393,)"
      ]
     },
     "execution_count": 7,
     "metadata": {},
     "output_type": "execute_result"
    }
   ],
   "source": [
    "folds[0][0].shape"
   ]
  },
  {
   "cell_type": "code",
   "execution_count": 8,
   "metadata": {},
   "outputs": [
    {
     "data": {
      "text/plain": [
       "(2453,)"
      ]
     },
     "execution_count": 8,
     "metadata": {},
     "output_type": "execute_result"
    }
   ],
   "source": [
    "folds[0][1].shape"
   ]
  },
  {
   "cell_type": "code",
   "execution_count": 9,
   "metadata": {},
   "outputs": [
    {
     "data": {
      "text/plain": [
       "20846"
      ]
     },
     "execution_count": 9,
     "metadata": {},
     "output_type": "execute_result"
    }
   ],
   "source": [
    "folds[0][0].shape[0]+folds[0][1].shape[0]"
   ]
  },
  {
   "cell_type": "code",
   "execution_count": 10,
   "metadata": {},
   "outputs": [
    {
     "name": "stdout",
     "output_type": "stream",
     "text": [
      "20846\n",
      "20846\n",
      "20846\n",
      "20846\n",
      "20846\n",
      "20846\n",
      "20846\n",
      "20846\n",
      "20846\n",
      "20846\n"
     ]
    }
   ],
   "source": [
    "for i in range(len(folds)):\n",
    "    print(folds[i][0].shape[0]+folds[i][1].shape[0])"
   ]
  },
  {
   "cell_type": "code",
   "execution_count": 83,
   "metadata": {},
   "outputs": [],
   "source": [
    "data_path = \"/media/kavin/silo/ghost-storage/Research/WASH/complex_activities/\"\n",
    "\n",
    "#data_file = \"ubicomp08_routines_lda_5_topic_5_doc_nan_no_overlap_doc_topic_chunk_2_unlabeled_filtered_labels.csv\"\n",
    "\n",
    "data_file = \"TM_Files/LDA_after_filter/ubicomp08_routines_lda_doc_topic_nan_5-topic_5-doc_5-overlap_2-chunk_1000-num_passes_1-update_every_lda_after_filter_unlabeled.csv\"\n",
    "\n",
    "data_df = pd.read_csv(data_path + data_file)"
   ]
  },
  {
   "cell_type": "code",
   "execution_count": 72,
   "metadata": {},
   "outputs": [],
   "source": [
    "test_days_list = [3, 1, 7, 2, 6, 5, 4]"
   ]
  },
  {
   "cell_type": "code",
   "execution_count": 84,
   "metadata": {},
   "outputs": [
    {
     "data": {
      "text/plain": [
       "(7, 2)"
      ]
     },
     "execution_count": 84,
     "metadata": {},
     "output_type": "execute_result"
    }
   ],
   "source": [
    "ubi_folds = []\n",
    "for fold_idx in range(len(test_days_list)):\n",
    "    test_idx = np.where(data_df.day == test_days_list[fold_idx])\n",
    "    train_idx = np.where(data_df.day != test_days_list[fold_idx])\n",
    "    ubi_folds.append([train_idx[0],test_idx[0]])\n",
    "ubi_folds = np.array(ubi_folds)\n",
    "ubi_folds.shape"
   ]
  },
  {
   "cell_type": "code",
   "execution_count": 85,
   "metadata": {},
   "outputs": [
    {
     "name": "stdout",
     "output_type": "stream",
     "text": [
      "514525\n",
      "514525\n",
      "514525\n",
      "514525\n",
      "514525\n",
      "514525\n",
      "514525\n"
     ]
    }
   ],
   "source": [
    "for i in range(len(ubi_folds)):\n",
    "    print(ubi_folds[i][0].shape[0]+ubi_folds[i][1].shape[0])"
   ]
  },
  {
   "cell_type": "code",
   "execution_count": 86,
   "metadata": {},
   "outputs": [
    {
     "data": {
      "text/plain": [
       "(array([224257, 224258, 224259, ..., 291933, 291934, 291935]),)"
      ]
     },
     "execution_count": 86,
     "metadata": {},
     "output_type": "execute_result"
    }
   ],
   "source": [
    "test_idx"
   ]
  },
  {
   "cell_type": "code",
   "execution_count": 87,
   "metadata": {},
   "outputs": [],
   "source": [
    "data_df = data_df.fillna(-1)"
   ]
  },
  {
   "cell_type": "code",
   "execution_count": 88,
   "metadata": {},
   "outputs": [
    {
     "data": {
      "text/plain": [
       "array([ 3.,  2.,  1.,  4., -1.,  0.])"
      ]
     },
     "execution_count": 88,
     "metadata": {},
     "output_type": "execute_result"
    }
   ],
   "source": [
    "data_df.topic.unique()"
   ]
  },
  {
   "cell_type": "code",
   "execution_count": 89,
   "metadata": {},
   "outputs": [],
   "source": [
    "X = np.resize(np.expand_dims(data_df.iloc[:, [0, 1, 2, 3, 4, 5, 6, 7, 8, 9, 10, 11]].values, axis = 1), (514525, 1, 4, 3))\n",
    "y = data_df.iloc[:, 14].values"
   ]
  },
  {
   "cell_type": "code",
   "execution_count": 90,
   "metadata": {
    "scrolled": true
   },
   "outputs": [
    {
     "data": {
      "text/plain": [
       "(514525, 1, 4, 3)"
      ]
     },
     "execution_count": 90,
     "metadata": {},
     "output_type": "execute_result"
    }
   ],
   "source": [
    "X.shape"
   ]
  },
  {
   "cell_type": "code",
   "execution_count": 91,
   "metadata": {},
   "outputs": [],
   "source": [
    "X_hours = data_df.iloc[:, [15, 16]].values\n",
    "X_hours = np.hstack((X_hours,np.zeros((X_hours.shape[0],1))))"
   ]
  },
  {
   "cell_type": "code",
   "execution_count": 78,
   "metadata": {},
   "outputs": [
    {
     "data": {
      "text/plain": [
       "(514525, 3)"
      ]
     },
     "execution_count": 78,
     "metadata": {},
     "output_type": "execute_result"
    }
   ],
   "source": [
    "X_hours.shape"
   ]
  },
  {
   "cell_type": "code",
   "execution_count": 65,
   "metadata": {},
   "outputs": [
    {
     "data": {
      "text/plain": [
       "(514525, 1, 1, 3)"
      ]
     },
     "execution_count": 65,
     "metadata": {},
     "output_type": "execute_result"
    }
   ],
   "source": [
    "np.expand_dims(X_hours, axis = (1, 2)).shape"
   ]
  },
  {
   "cell_type": "code",
   "execution_count": 92,
   "metadata": {},
   "outputs": [],
   "source": [
    "X_topics = data_df.iloc[:, [19]].values\n",
    "X_topics = np.hstack((X_topics,np.zeros((X_topics.shape[0],2))))"
   ]
  },
  {
   "cell_type": "code",
   "execution_count": 93,
   "metadata": {},
   "outputs": [],
   "source": [
    "X_New = np.concatenate((X, np.expand_dims(X_hours, axis = (1, 2))), axis = 2)"
   ]
  },
  {
   "cell_type": "code",
   "execution_count": 94,
   "metadata": {},
   "outputs": [],
   "source": [
    "X_New = np.concatenate((X_New, np.expand_dims(X_topics, axis = (1, 2))), axis = 2)"
   ]
  },
  {
   "cell_type": "code",
   "execution_count": 95,
   "metadata": {},
   "outputs": [
    {
     "data": {
      "text/plain": [
       "(514525, 1, 6, 3)"
      ]
     },
     "execution_count": 95,
     "metadata": {},
     "output_type": "execute_result"
    }
   ],
   "source": [
    "X_New.shape"
   ]
  },
  {
   "cell_type": "code",
   "execution_count": 96,
   "metadata": {},
   "outputs": [],
   "source": []
  },
  {
   "cell_type": "code",
   "execution_count": 97,
   "metadata": {},
   "outputs": [],
   "source": [
    "y_one_hot = one_hot(y-1, 4)"
   ]
  },
  {
   "cell_type": "code",
   "execution_count": 51,
   "metadata": {},
   "outputs": [],
   "source": [
    "with open('./data/LOTO/ubicomp_deepconv_attn_baseline_filter_unlabeled_before_LDA.npz', 'wb') as handle:\n",
    "    pickle.dump({\"X\": X_New, \"y\":y_one_hot, \"folds\":ubi_folds}, handle, protocol=2)\n"
   ]
  },
  {
   "cell_type": "code",
   "execution_count": 70,
   "metadata": {},
   "outputs": [],
   "source": [
    "with open('./data/LOTO/ubicomp_deepconv_attn_topic_filter_unlabeled_before_LDA.npz', 'wb') as handle:\n",
    "    pickle.dump({\"X\": X_New, \"y\":y_one_hot, \"folds\":ubi_folds}, handle, protocol=2)\n"
   ]
  },
  {
   "cell_type": "code",
   "execution_count": 98,
   "metadata": {},
   "outputs": [],
   "source": [
    "with open('./data/LOTO/ubicomp_deepconv_attn_topic_filter_unlabeled_before_LDA_separate_topic_channel.npz', 'wb') as handle:\n",
    "    pickle.dump({\"X\": X_New, \"y\":y_one_hot, \"folds\":ubi_folds}, handle, protocol=2)\n"
   ]
  },
  {
   "cell_type": "code",
   "execution_count": 82,
   "metadata": {},
   "outputs": [],
   "source": [
    "with open('./data/LOTO/ubicomp_deepconv_attn_topic_filter_unlabeled.npz', 'wb') as handle:\n",
    "    pickle.dump({\"X\": X_New, \"y\":y_one_hot, \"folds\":ubi_folds}, handle, protocol=2)\n"
   ]
  },
  {
   "cell_type": "code",
   "execution_count": 19,
   "metadata": {},
   "outputs": [],
   "source": [
    "with open('./data/LOTO/ubicomp_deepconv_attn_topic_filter_unlabeled_separate_topic_channel.npz', 'wb') as handle:\n",
    "    pickle.dump({\"X\": X_New, \"y\":y_one_hot, \"folds\":ubi_folds}, handle, protocol=2)\n"
   ]
  },
  {
   "cell_type": "code",
   "execution_count": 194,
   "metadata": {},
   "outputs": [],
   "source": [
    "with open('./data/LOTO/ubicomp_deepconv_attn_topic_all_labels_separate_topic_channel_no_days.npz', 'wb') as handle:\n",
    "    pickle.dump({\"X\": X_New, \"y\":y_one_hot, \"folds\":ubi_folds}, handle, protocol=2)\n"
   ]
  },
  {
   "cell_type": "code",
   "execution_count": 166,
   "metadata": {},
   "outputs": [],
   "source": [
    "with open('./data/LOTO/ubicomp_deepconv_attn_topic_filtered_labels_separate_topic_channel.npz', 'wb') as handle:\n",
    "    pickle.dump({\"X\": X_New, \"y\":y_one_hot, \"folds\":ubi_folds}, handle, protocol=2)\n"
   ]
  },
  {
   "cell_type": "code",
   "execution_count": 100,
   "metadata": {},
   "outputs": [],
   "source": [
    "with open('./data/LOTO/ubicomp_deepconv_attn_baseline_filtered_labels.npz', 'wb') as handle:\n",
    "    pickle.dump({\"X\": X_New, \"y\":y_one_hot, \"folds\":ubi_folds}, handle, protocol=2)\n"
   ]
  },
  {
   "cell_type": "code",
   "execution_count": 27,
   "metadata": {},
   "outputs": [],
   "source": [
    "with open('./data/LOTO/ubicomp_deepconv_attn_topic.npz', 'wb') as handle:\n",
    "    np.savez(handle, X=X, y=y_one_hot, folds = ubi_folds)"
   ]
  },
  {
   "cell_type": "code",
   "execution_count": 1,
   "metadata": {},
   "outputs": [],
   "source": [
    "def one_hot(y_, n_values):\n",
    "    return np.eye(n_values)[np.array(y_, dtype=np.int32)]"
   ]
  },
  {
   "cell_type": "code",
   "execution_count": 2,
   "metadata": {},
   "outputs": [],
   "source": [
    "from os import walk\n",
    "import pandas as pd\n",
    "import numpy as np\n",
    "import os\n",
    "import pickle"
   ]
  },
  {
   "cell_type": "code",
   "execution_count": 3,
   "metadata": {
    "scrolled": true
   },
   "outputs": [
    {
     "name": "stdout",
     "output_type": "stream",
     "text": [
      "773817\n",
      "[[ 7.  9.  0.]\n",
      " [ 7.  9.  0.]\n",
      " [ 7.  9.  0.]\n",
      " ...\n",
      " [ 1. 22.  0.]\n",
      " [ 1. 22.  0.]\n",
      " [ 1. 22.  0.]]\n",
      "[[ 0.  0.  0.]\n",
      " [ 0.  0.  0.]\n",
      " [ 0.  0.  0.]\n",
      " ...\n",
      " [-1.  0.  0.]\n",
      " [-1.  0.  0.]\n",
      " [-1.  0.  0.]]\n",
      "773817\n",
      "[[ 7.  9.  0.]\n",
      " [ 7.  9.  0.]\n",
      " [ 7.  9.  0.]\n",
      " ...\n",
      " [ 1. 22.  0.]\n",
      " [ 1. 22.  0.]\n",
      " [ 1. 22.  0.]]\n",
      "[[ 0.  0.  0.]\n",
      " [ 0.  0.  0.]\n",
      " [ 0.  0.  0.]\n",
      " ...\n",
      " [-1.  0.  0.]\n",
      " [-1.  0.  0.]\n",
      " [-1.  0.  0.]]\n",
      "773817\n",
      "[[ 7.  9.  0.]\n",
      " [ 7.  9.  0.]\n",
      " [ 7.  9.  0.]\n",
      " ...\n",
      " [ 1. 22.  0.]\n",
      " [ 1. 22.  0.]\n",
      " [ 1. 22.  0.]]\n",
      "[[ 0.  0.  0.]\n",
      " [ 0.  0.  0.]\n",
      " [ 0.  0.  0.]\n",
      " ...\n",
      " [-1.  0.  0.]\n",
      " [-1.  0.  0.]\n",
      " [-1.  0.  0.]]\n",
      "773817\n",
      "[[ 7.  9.  0.]\n",
      " [ 7.  9.  0.]\n",
      " [ 7.  9.  0.]\n",
      " ...\n",
      " [ 1. 22.  0.]\n",
      " [ 1. 22.  0.]\n",
      " [ 1. 22.  0.]]\n",
      "[[ 2.  0.  0.]\n",
      " [ 2.  0.  0.]\n",
      " [ 2.  0.  0.]\n",
      " ...\n",
      " [-1.  0.  0.]\n",
      " [-1.  0.  0.]\n",
      " [-1.  0.  0.]]\n",
      "773817\n",
      "[[ 7.  9.  0.]\n",
      " [ 7.  9.  0.]\n",
      " [ 7.  9.  0.]\n",
      " ...\n",
      " [ 1. 22.  0.]\n",
      " [ 1. 22.  0.]\n",
      " [ 1. 22.  0.]]\n",
      "[[ 3.  0.  0.]\n",
      " [ 3.  0.  0.]\n",
      " [ 3.  0.  0.]\n",
      " ...\n",
      " [-1.  0.  0.]\n",
      " [-1.  0.  0.]\n",
      " [-1.  0.  0.]]\n",
      "773817\n",
      "[[ 7.  9.  0.]\n",
      " [ 7.  9.  0.]\n",
      " [ 7.  9.  0.]\n",
      " ...\n",
      " [ 1. 22.  0.]\n",
      " [ 1. 22.  0.]\n",
      " [ 1. 22.  0.]]\n",
      "[[ 2.  0.  0.]\n",
      " [ 2.  0.  0.]\n",
      " [ 2.  0.  0.]\n",
      " ...\n",
      " [-1.  0.  0.]\n",
      " [-1.  0.  0.]\n",
      " [-1.  0.  0.]]\n",
      "773817\n",
      "[[ 7.  9.  0.]\n",
      " [ 7.  9.  0.]\n",
      " [ 7.  9.  0.]\n",
      " ...\n",
      " [ 1. 22.  0.]\n",
      " [ 1. 22.  0.]\n",
      " [ 1. 22.  0.]]\n",
      "[[ 1.  0.  0.]\n",
      " [ 1.  0.  0.]\n",
      " [ 1.  0.  0.]\n",
      " ...\n",
      " [-1.  0.  0.]\n",
      " [-1.  0.  0.]\n",
      " [-1.  0.  0.]]\n",
      "773817\n",
      "[[ 7.  9.  0.]\n",
      " [ 7.  9.  0.]\n",
      " [ 7.  9.  0.]\n",
      " ...\n",
      " [ 1. 22.  0.]\n",
      " [ 1. 22.  0.]\n",
      " [ 1. 22.  0.]]\n",
      "[[ 1.  0.  0.]\n",
      " [ 1.  0.  0.]\n",
      " [ 1.  0.  0.]\n",
      " ...\n",
      " [-1.  0.  0.]\n",
      " [-1.  0.  0.]\n",
      " [-1.  0.  0.]]\n",
      "773817\n",
      "[[ 7.  9.  0.]\n",
      " [ 7.  9.  0.]\n",
      " [ 7.  9.  0.]\n",
      " ...\n",
      " [ 1. 22.  0.]\n",
      " [ 1. 22.  0.]\n",
      " [ 1. 22.  0.]]\n",
      "[[ 4.  0.  0.]\n",
      " [ 4.  0.  0.]\n",
      " [ 4.  0.  0.]\n",
      " ...\n",
      " [-1.  0.  0.]\n",
      " [-1.  0.  0.]\n",
      " [-1.  0.  0.]]\n",
      "773817\n",
      "[[ 7.  9.  0.]\n",
      " [ 7.  9.  0.]\n",
      " [ 7.  9.  0.]\n",
      " ...\n",
      " [ 1. 22.  0.]\n",
      " [ 1. 22.  0.]\n",
      " [ 1. 22.  0.]]\n",
      "[[ 2.  0.  0.]\n",
      " [ 2.  0.  0.]\n",
      " [ 2.  0.  0.]\n",
      " ...\n",
      " [-1.  0.  0.]\n",
      " [-1.  0.  0.]\n",
      " [-1.  0.  0.]]\n",
      "773817\n",
      "[[ 7.  9.  0.]\n",
      " [ 7.  9.  0.]\n",
      " [ 7.  9.  0.]\n",
      " ...\n",
      " [ 1. 22.  0.]\n",
      " [ 1. 22.  0.]\n",
      " [ 1. 22.  0.]]\n",
      "[[ 4.  0.  0.]\n",
      " [ 4.  0.  0.]\n",
      " [ 4.  0.  0.]\n",
      " ...\n",
      " [-1.  0.  0.]\n",
      " [-1.  0.  0.]\n",
      " [-1.  0.  0.]]\n",
      "773817\n",
      "[[ 7.  9.  0.]\n",
      " [ 7.  9.  0.]\n",
      " [ 7.  9.  0.]\n",
      " ...\n",
      " [ 1. 22.  0.]\n",
      " [ 1. 22.  0.]\n",
      " [ 1. 22.  0.]]\n",
      "[[ 4.  0.  0.]\n",
      " [ 4.  0.  0.]\n",
      " [ 4.  0.  0.]\n",
      " ...\n",
      " [-1.  0.  0.]\n",
      " [-1.  0.  0.]\n",
      " [-1.  0.  0.]]\n",
      "773817\n",
      "[[ 7.  9.  0.]\n",
      " [ 7.  9.  0.]\n",
      " [ 7.  9.  0.]\n",
      " ...\n",
      " [ 1. 22.  0.]\n",
      " [ 1. 22.  0.]\n",
      " [ 1. 22.  0.]]\n",
      "[[ 1.  0.  0.]\n",
      " [ 1.  0.  0.]\n",
      " [ 1.  0.  0.]\n",
      " ...\n",
      " [-1.  0.  0.]\n",
      " [-1.  0.  0.]\n",
      " [-1.  0.  0.]]\n",
      "773817\n",
      "[[ 7.  9.  0.]\n",
      " [ 7.  9.  0.]\n",
      " [ 7.  9.  0.]\n",
      " ...\n",
      " [ 1. 22.  0.]\n",
      " [ 1. 22.  0.]\n",
      " [ 1. 22.  0.]]\n",
      "[[ 4.  0.  0.]\n",
      " [ 4.  0.  0.]\n",
      " [ 4.  0.  0.]\n",
      " ...\n",
      " [-1.  0.  0.]\n",
      " [-1.  0.  0.]\n",
      " [-1.  0.  0.]]\n",
      "773817\n",
      "[[ 7.  9.  0.]\n",
      " [ 7.  9.  0.]\n",
      " [ 7.  9.  0.]\n",
      " ...\n",
      " [ 1. 22.  0.]\n",
      " [ 1. 22.  0.]\n",
      " [ 1. 22.  0.]]\n",
      "[[ 1.  0.  0.]\n",
      " [ 1.  0.  0.]\n",
      " [ 1.  0.  0.]\n",
      " ...\n",
      " [-1.  0.  0.]\n",
      " [-1.  0.  0.]\n",
      " [-1.  0.  0.]]\n",
      "773817\n",
      "[[ 7.  9.  0.]\n",
      " [ 7.  9.  0.]\n",
      " [ 7.  9.  0.]\n",
      " ...\n",
      " [ 1. 22.  0.]\n",
      " [ 1. 22.  0.]\n",
      " [ 1. 22.  0.]]\n",
      "[[ 0.  0.  0.]\n",
      " [ 0.  0.  0.]\n",
      " [ 0.  0.  0.]\n",
      " ...\n",
      " [-1.  0.  0.]\n",
      " [-1.  0.  0.]\n",
      " [-1.  0.  0.]]\n",
      "773817\n",
      "[[ 7.  9.  0.]\n",
      " [ 7.  9.  0.]\n",
      " [ 7.  9.  0.]\n",
      " ...\n",
      " [ 1. 22.  0.]\n",
      " [ 1. 22.  0.]\n",
      " [ 1. 22.  0.]]\n",
      "[[ 0.  0.  0.]\n",
      " [ 0.  0.  0.]\n",
      " [ 0.  0.  0.]\n",
      " ...\n",
      " [-1.  0.  0.]\n",
      " [-1.  0.  0.]\n",
      " [-1.  0.  0.]]\n",
      "773817\n",
      "[[ 7.  9.  0.]\n",
      " [ 7.  9.  0.]\n",
      " [ 7.  9.  0.]\n",
      " ...\n",
      " [ 1. 22.  0.]\n",
      " [ 1. 22.  0.]\n",
      " [ 1. 22.  0.]]\n",
      "[[ 2.  0.  0.]\n",
      " [ 2.  0.  0.]\n",
      " [ 2.  0.  0.]\n",
      " ...\n",
      " [-1.  0.  0.]\n",
      " [-1.  0.  0.]\n",
      " [-1.  0.  0.]]\n",
      "773817\n",
      "[[ 7.  9.  0.]\n",
      " [ 7.  9.  0.]\n",
      " [ 7.  9.  0.]\n",
      " ...\n",
      " [ 1. 22.  0.]\n",
      " [ 1. 22.  0.]\n",
      " [ 1. 22.  0.]]\n",
      "[[ 4.  0.  0.]\n",
      " [ 4.  0.  0.]\n",
      " [ 4.  0.  0.]\n",
      " ...\n",
      " [-1.  0.  0.]\n",
      " [-1.  0.  0.]\n",
      " [-1.  0.  0.]]\n",
      "773817\n",
      "[[ 7.  9.  0.]\n",
      " [ 7.  9.  0.]\n",
      " [ 7.  9.  0.]\n",
      " ...\n",
      " [ 1. 22.  0.]\n",
      " [ 1. 22.  0.]\n",
      " [ 1. 22.  0.]]\n",
      "[[ 3.  0.  0.]\n",
      " [ 3.  0.  0.]\n",
      " [ 3.  0.  0.]\n",
      " ...\n",
      " [-1.  0.  0.]\n",
      " [-1.  0.  0.]\n",
      " [-1.  0.  0.]]\n",
      "773817\n",
      "[[ 7.  9.  0.]\n",
      " [ 7.  9.  0.]\n",
      " [ 7.  9.  0.]\n",
      " ...\n",
      " [ 1. 22.  0.]\n",
      " [ 1. 22.  0.]\n",
      " [ 1. 22.  0.]]\n",
      "[[ 4.  0.  0.]\n",
      " [ 4.  0.  0.]\n",
      " [ 4.  0.  0.]\n",
      " ...\n",
      " [-1.  0.  0.]\n",
      " [-1.  0.  0.]\n",
      " [-1.  0.  0.]]\n",
      "773817\n",
      "[[ 7.  9.  0.]\n",
      " [ 7.  9.  0.]\n",
      " [ 7.  9.  0.]\n",
      " ...\n",
      " [ 1. 22.  0.]\n",
      " [ 1. 22.  0.]\n",
      " [ 1. 22.  0.]]\n",
      "[[ 0.  0.  0.]\n",
      " [ 0.  0.  0.]\n",
      " [ 0.  0.  0.]\n",
      " ...\n",
      " [-1.  0.  0.]\n",
      " [-1.  0.  0.]\n",
      " [-1.  0.  0.]]\n",
      "773817\n",
      "[[ 7.  9.  0.]\n",
      " [ 7.  9.  0.]\n",
      " [ 7.  9.  0.]\n",
      " ...\n",
      " [ 1. 22.  0.]\n",
      " [ 1. 22.  0.]\n",
      " [ 1. 22.  0.]]\n",
      "[[ 4.  0.  0.]\n",
      " [ 4.  0.  0.]\n",
      " [ 4.  0.  0.]\n",
      " ...\n",
      " [-1.  0.  0.]\n",
      " [-1.  0.  0.]\n",
      " [-1.  0.  0.]]\n",
      "773817\n",
      "[[ 7.  9.  0.]\n",
      " [ 7.  9.  0.]\n",
      " [ 7.  9.  0.]\n",
      " ...\n",
      " [ 1. 22.  0.]\n",
      " [ 1. 22.  0.]\n",
      " [ 1. 22.  0.]]\n",
      "[[ 4.  0.  0.]\n",
      " [ 4.  0.  0.]\n",
      " [ 4.  0.  0.]\n",
      " ...\n",
      " [-1.  0.  0.]\n",
      " [-1.  0.  0.]\n",
      " [-1.  0.  0.]]\n",
      "773817\n",
      "[[ 7.  9.  0.]\n",
      " [ 7.  9.  0.]\n",
      " [ 7.  9.  0.]\n",
      " ...\n",
      " [ 1. 22.  0.]\n",
      " [ 1. 22.  0.]\n",
      " [ 1. 22.  0.]]\n",
      "[[ 3.  0.  0.]\n",
      " [ 3.  0.  0.]\n",
      " [ 3.  0.  0.]\n",
      " ...\n",
      " [-1.  0.  0.]\n",
      " [-1.  0.  0.]\n",
      " [-1.  0.  0.]]\n",
      "773817\n",
      "[[ 7.  9.  0.]\n",
      " [ 7.  9.  0.]\n",
      " [ 7.  9.  0.]\n",
      " ...\n",
      " [ 1. 22.  0.]\n",
      " [ 1. 22.  0.]\n",
      " [ 1. 22.  0.]]\n",
      "[[ 3.  0.  0.]\n",
      " [ 3.  0.  0.]\n",
      " [ 3.  0.  0.]\n",
      " ...\n",
      " [-1.  0.  0.]\n",
      " [-1.  0.  0.]\n",
      " [-1.  0.  0.]]\n",
      "773817\n",
      "[[ 7.  9.  0.]\n",
      " [ 7.  9.  0.]\n",
      " [ 7.  9.  0.]\n",
      " ...\n",
      " [ 1. 22.  0.]\n",
      " [ 1. 22.  0.]\n",
      " [ 1. 22.  0.]]\n",
      "[[ 4.  0.  0.]\n",
      " [ 4.  0.  0.]\n",
      " [ 4.  0.  0.]\n",
      " ...\n",
      " [-1.  0.  0.]\n",
      " [-1.  0.  0.]\n",
      " [-1.  0.  0.]]\n",
      "773817\n",
      "[[ 7.  9.  0.]\n",
      " [ 7.  9.  0.]\n",
      " [ 7.  9.  0.]\n",
      " ...\n",
      " [ 1. 22.  0.]\n",
      " [ 1. 22.  0.]\n",
      " [ 1. 22.  0.]]\n",
      "[[ 4.  0.  0.]\n",
      " [ 4.  0.  0.]\n",
      " [ 4.  0.  0.]\n",
      " ...\n",
      " [-1.  0.  0.]\n",
      " [-1.  0.  0.]\n",
      " [-1.  0.  0.]]\n",
      "773817\n",
      "[[ 7.  9.  0.]\n",
      " [ 7.  9.  0.]\n",
      " [ 7.  9.  0.]\n",
      " ...\n",
      " [ 1. 22.  0.]\n",
      " [ 1. 22.  0.]\n",
      " [ 1. 22.  0.]]\n",
      "[[ 4.  0.  0.]\n",
      " [ 4.  0.  0.]\n",
      " [ 4.  0.  0.]\n",
      " ...\n",
      " [-1.  0.  0.]\n",
      " [-1.  0.  0.]\n",
      " [-1.  0.  0.]]\n",
      "773817\n",
      "[[ 7.  9.  0.]\n",
      " [ 7.  9.  0.]\n",
      " [ 7.  9.  0.]\n",
      " ...\n",
      " [ 1. 22.  0.]\n",
      " [ 1. 22.  0.]\n",
      " [ 1. 22.  0.]]\n",
      "[[ 1.  0.  0.]\n",
      " [ 1.  0.  0.]\n",
      " [ 1.  0.  0.]\n",
      " ...\n",
      " [-1.  0.  0.]\n",
      " [-1.  0.  0.]\n",
      " [-1.  0.  0.]]\n"
     ]
    }
   ],
   "source": [
    "test_days_list = [3, 1, 7, 2, 6, 5, 4]\n",
    "data_path = \"/Users/kavin/silo/Research/WASH/complex_activities/deepconvlstm_with_attention/diff_windows_no_overlap_2_chunk/\"\n",
    "_, _, filenames = next(walk(data_path))\n",
    "for data_file in filenames:\n",
    "    data_df = pd.read_csv(data_path + data_file)\n",
    "    ubi_folds = []\n",
    "    for fold_idx in range(len(test_days_list)):\n",
    "        test_idx = np.where(data_df.day == test_days_list[fold_idx])\n",
    "        train_idx = np.where(data_df.day != test_days_list[fold_idx])\n",
    "        ubi_folds.append([train_idx[0],test_idx[0]])\n",
    "    ubi_folds = np.array(ubi_folds)\n",
    "    data_len = ubi_folds[1][0].shape[0]+ubi_folds[1][1].shape[0]\n",
    "    data_df = data_df.fillna(-1)\n",
    "    print(data_len)\n",
    "    X = np.resize(np.expand_dims(data_df.iloc[:, [0, 1, 2, 3, 4, 5, 6, 7, 8, 9, 10, 11]].values, axis = 1), (data_len, 1, 4, 3))\n",
    "    y = data_df.iloc[:, 14].values\n",
    "    X_hours = data_df.iloc[:, [15, 16]].values\n",
    "    X_hours = np.hstack((X_hours,np.zeros((X_hours.shape[0],1))))\n",
    "    X_topics = data_df.iloc[:, [19]].values\n",
    "    X_topics = np.hstack((X_topics,np.zeros((X_topics.shape[0],2))))\n",
    "    print(X_hours)\n",
    "    print(X_topics)\n",
    "    X_New = np.concatenate((X, np.expand_dims(X_hours, axis = (1, 2))), axis = 2)\n",
    "    X_New = np.concatenate((X_New, np.expand_dims(X_topics, axis = (1, 2))), axis = 2)\n",
    "    y_one_hot = one_hot(y-1, 4)\n",
    "    with open('./data/LOTO/{}.npz'.format(data_file.split('.')[0]), 'wb') as handle:\n",
    "        pickle.dump({\"X\": X_New, \"y\":y_one_hot, \"folds\":ubi_folds}, handle, protocol=2)\n"
   ]
  },
  {
   "cell_type": "code",
   "execution_count": 3,
   "metadata": {},
   "outputs": [
    {
     "data": {
      "text/plain": [
       "['ubicomp08_routines_lda_doc_topic_nan_5-topic_3.0-doc_3.0-overlap_2-chunk_1000-num_passes_1-update_every.csv',\n",
       " 'ubicomp08_routines_lda_doc_topic_nan_5-topic_6.0-doc_6.0-overlap_2-chunk_1000-num_passes_1-update_every.csv',\n",
       " 'ubicomp08_routines_lda_doc_topic_nan_5-topic_19.0-doc_19.0-overlap_2-chunk_1000-num_passes_1-update_every.csv',\n",
       " 'ubicomp08_routines_lda_doc_topic_nan_5-topic_29.0-doc_29.0-overlap_2-chunk_1000-num_passes_1-update_every.csv',\n",
       " 'ubicomp08_routines_lda_doc_topic_nan_5-topic_7.0-doc_7.0-overlap_2-chunk_1000-num_passes_1-update_every.csv',\n",
       " 'ubicomp08_routines_lda_doc_topic_nan_5-topic_2.0-doc_2.0-overlap_2-chunk_1000-num_passes_1-update_every.csv',\n",
       " 'ubicomp08_routines_lda_doc_topic_nan_5-topic_18.0-doc_18.0-overlap_2-chunk_1000-num_passes_1-update_every.csv',\n",
       " 'ubicomp08_routines_lda_doc_topic_nan_5-topic_28.0-doc_28.0-overlap_2-chunk_1000-num_passes_1-update_every.csv',\n",
       " 'ubicomp08_routines_lda_doc_topic_nan_5-topic_13.0-doc_13.0-overlap_2-chunk_1000-num_passes_1-update_every.csv',\n",
       " 'ubicomp08_routines_lda_doc_topic_nan_5-topic_16.0-doc_16.0-overlap_2-chunk_1000-num_passes_1-update_every.csv',\n",
       " 'ubicomp08_routines_lda_doc_topic_nan_5-topic_9.0-doc_9.0-overlap_2-chunk_1000-num_passes_1-update_every.csv',\n",
       " 'ubicomp08_routines_lda_doc_topic_nan_5-topic_23.0-doc_23.0-overlap_2-chunk_1000-num_passes_1-update_every.csv',\n",
       " 'ubicomp08_routines_lda_doc_topic_nan_5-topic_26.0-doc_26.0-overlap_2-chunk_1000-num_passes_1-update_every.csv',\n",
       " 'ubicomp08_routines_lda_doc_topic_nan_5-topic_11.0-doc_11.0-overlap_2-chunk_1000-num_passes_1-update_every.csv',\n",
       " 'ubicomp08_routines_lda_doc_topic_nan_5-topic_1.0-doc_1.0-overlap_2-chunk_1000-num_passes_1-update_every.csv',\n",
       " 'ubicomp08_routines_lda_doc_topic_nan_5-topic_14.0-doc_14.0-overlap_2-chunk_1000-num_passes_1-update_every.csv',\n",
       " 'ubicomp08_routines_lda_doc_topic_nan_5-topic_4.0-doc_4.0-overlap_2-chunk_1000-num_passes_1-update_every.csv',\n",
       " 'ubicomp08_routines_lda_doc_topic_nan_5-topic_21.0-doc_21.0-overlap_2-chunk_1000-num_passes_1-update_every.csv',\n",
       " 'ubicomp08_routines_lda_doc_topic_nan_5-topic_24.0-doc_24.0-overlap_2-chunk_1000-num_passes_1-update_every.csv',\n",
       " 'ubicomp08_routines_lda_doc_topic_nan_5-topic_17.0-doc_17.0-overlap_2-chunk_1000-num_passes_1-update_every.csv',\n",
       " 'ubicomp08_routines_lda_doc_topic_nan_5-topic_12.0-doc_12.0-overlap_2-chunk_1000-num_passes_1-update_every.csv',\n",
       " 'ubicomp08_routines_lda_doc_topic_nan_5-topic_27.0-doc_27.0-overlap_2-chunk_1000-num_passes_1-update_every.csv',\n",
       " 'ubicomp08_routines_lda_doc_topic_nan_5-topic_8.0-doc_8.0-overlap_2-chunk_1000-num_passes_1-update_every.csv',\n",
       " 'ubicomp08_routines_lda_doc_topic_nan_5-topic_22.0-doc_22.0-overlap_2-chunk_1000-num_passes_1-update_every.csv',\n",
       " 'ubicomp08_routines_lda_doc_topic_nan_5-topic_15.0-doc_15.0-overlap_2-chunk_1000-num_passes_1-update_every.csv',\n",
       " 'ubicomp08_routines_lda_doc_topic_nan_5-topic_5.0-doc_5.0-overlap_2-chunk_1000-num_passes_1-update_every.csv',\n",
       " 'ubicomp08_routines_lda_doc_topic_nan_5-topic_10.0-doc_10.0-overlap_2-chunk_1000-num_passes_1-update_every.csv',\n",
       " 'ubicomp08_routines_lda_doc_topic_nan_5-topic_30.0-doc_30.0-overlap_2-chunk_1000-num_passes_1-update_every.csv',\n",
       " 'ubicomp08_routines_lda_doc_topic_nan_5-topic_25.0-doc_25.0-overlap_2-chunk_1000-num_passes_1-update_every.csv',\n",
       " 'ubicomp08_routines_lda_doc_topic_nan_5-topic_20.0-doc_20.0-overlap_2-chunk_1000-num_passes_1-update_every.csv']"
      ]
     },
     "execution_count": 3,
     "metadata": {},
     "output_type": "execute_result"
    }
   ],
   "source": []
  },
  {
   "cell_type": "code",
   "execution_count": null,
   "metadata": {},
   "outputs": [],
   "source": []
  }
 ],
 "metadata": {
  "kernelspec": {
   "display_name": "tensorflow",
   "language": "python",
   "name": "tensorflow"
  },
  "language_info": {
   "codemirror_mode": {
    "name": "ipython",
    "version": 3
   },
   "file_extension": ".py",
   "mimetype": "text/x-python",
   "name": "python",
   "nbconvert_exporter": "python",
   "pygments_lexer": "ipython3",
   "version": "3.8.5"
  }
 },
 "nbformat": 4,
 "nbformat_minor": 2
}
