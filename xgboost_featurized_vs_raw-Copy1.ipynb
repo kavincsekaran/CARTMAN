{
 "cells": [
  {
   "cell_type": "code",
   "execution_count": 15,
   "metadata": {},
   "outputs": [],
   "source": [
    "import numpy as np\n",
    "import pandas as pd\n",
    "import torch as th\n",
    "import os\n",
    "from collections import Counter\n",
    "import h5py\n",
    "\n",
    "from xgboost import XGBClassifier\n",
    "from sklearn.preprocessing import OneHotEncoder\n",
    "from sklearn.model_selection import train_test_split\n",
    "from sklearn.metrics import accuracy_score\n",
    "from sklearn.model_selection import KFold\n",
    "from sklearn.metrics import balanced_accuracy_score\n",
    "from sklearn.metrics import f1_score\n",
    "from sklearn.metrics import precision_score\n",
    "from sklearn.metrics import recall_score\n",
    "from sklearn.metrics import roc_auc_score\n",
    "\n",
    "from sklearn.metrics import confusion_matrix\n",
    "import matplotlib.pyplot as plt\n",
    "import seaborn as sns\n",
    "\n",
    "from sklearn.multiclass import OneVsRestClassifier\n",
    "from xgboost import XGBClassifier\n",
    "from sklearn.preprocessing import MultiLabelBinarizer\n",
    "\n",
    "from sklearn.metrics import classification_report\n",
    "\n",
    "import numpy as np\n",
    "import matplotlib.pyplot as plt\n",
    "from matplotlib import rc\n",
    "import pandas as pd\n",
    "import random"
   ]
  },
  {
   "cell_type": "code",
   "execution_count": 9,
   "metadata": {},
   "outputs": [],
   "source": [
    "new_simple_act = ['unlabeled',\n",
    " 'driving bike',\n",
    " 'having dinner',\n",
    " 'having lunch',\n",
    " 'using the toilet',\n",
    " 'queuing in line',\n",
    " 'walking',\n",
    " 'walking freely',\n",
    " 'washing hands',\n",
    " 'sitting',\n",
    " 'standing',\n",
    " 'having a coffee',\n",
    " 'lying',\n",
    " 'using computer',\n",
    " 'desk activities',\n",
    " 'carrying something']\n",
    "new_complex_act = ['unlabeled',\n",
    " 'driving car',\n",
    " 'personal hygiene',\n",
    " 'sitting  having a coffee',\n",
    " 'sitting  desk activities',\n",
    " 'walking while carrying something',\n",
    " 'picking up mensa food',\n",
    " 'lying  using computer',\n",
    " 'discussing at whiteboard',\n",
    " 'dinner activities',\n",
    " 'commuting',\n",
    " 'lunch routine',\n",
    " 'office work']"
   ]
  },
  {
   "cell_type": "code",
   "execution_count": 3,
   "metadata": {},
   "outputs": [],
   "source": [
    "data_df = pd.read_csv(\"ubicomp08_new_complex_one_hot_data_all_days_filtered_labels.csv\")\n",
    "\n",
    "data_df.sort_values(by = ['timestamp'], inplace = True)\n",
    "data_df.timestamp = pd.to_datetime(data_df.timestamp,unit='ns',  origin = 'unix')\n",
    "data_df.set_index(data_df.timestamp, drop = False, inplace= True)\n",
    "data_df = data_df[~data_df.index.duplicated(keep='first')]"
   ]
  },
  {
   "cell_type": "code",
   "execution_count": 4,
   "metadata": {},
   "outputs": [
    {
     "data": {
      "text/plain": [
       "Index(['mean_poc_x', 'mean_poc_y', 'mean_poc_z', 'var_poc_x', 'var_poc_y',\n",
       "       'var_poc_z', 'mean_wri_x', 'mean_wri_y', 'mean_wri_z', 'var_wri_x',\n",
       "       'var_wri_y', 'var_wri_z', 'timestamp', 'unlabeled', 'driving bike',\n",
       "       'having dinner', 'having lunch', 'using the toilet', 'queuing in line',\n",
       "       'walking', 'walking freely', 'washing hands', 'sitting', 'standing',\n",
       "       'having a coffee', 'lying', 'using computer', 'desk activities',\n",
       "       'carrying something', 'unlabeled.1', 'driving car', 'personal hygiene',\n",
       "       'sitting  having a coffee', 'sitting  desk activities',\n",
       "       'walking while carrying something', 'picking up mensa food',\n",
       "       'lying  using computer', 'discussing at whiteboard',\n",
       "       'dinner activities', 'commuting', 'lunch routine', 'office work',\n",
       "       'complex_category', 'day'],\n",
       "      dtype='object')"
      ]
     },
     "execution_count": 4,
     "metadata": {},
     "output_type": "execute_result"
    }
   ],
   "source": [
    "data_df.columns"
   ]
  },
  {
   "cell_type": "code",
   "execution_count": 30,
   "metadata": {},
   "outputs": [],
   "source": [
    "data_df[\"activity\"] = np.argmax(data_df.iloc[:, 13:29].values, axis = 1)"
   ]
  },
  {
   "cell_type": "code",
   "execution_count": 31,
   "metadata": {},
   "outputs": [],
   "source": [
    "data_df.to_csv(\"ubicomp08_new_complex_one_hot_data_all_days_filtered_labels_LDA.csv\", index = False)"
   ]
  },
  {
   "cell_type": "code",
   "execution_count": 6,
   "metadata": {},
   "outputs": [],
   "source": [
    "one_hot_enc = OneHotEncoder()"
   ]
  },
  {
   "cell_type": "code",
   "execution_count": 7,
   "metadata": {},
   "outputs": [
    {
     "data": {
      "text/plain": [
       "[4, 7, 3, 6, 1, 2, 5]"
      ]
     },
     "execution_count": 7,
     "metadata": {},
     "output_type": "execute_result"
    }
   ],
   "source": [
    "test_days_list = [1,2,3,4,5,6,7]\n",
    "random.shuffle(test_days_list)\n",
    "test_days_list"
   ]
  },
  {
   "cell_type": "code",
   "execution_count": 25,
   "metadata": {},
   "outputs": [
    {
     "name": "stderr",
     "output_type": "stream",
     "text": [
      "/home/kavin/anaconda3/envs/python3/lib/python3.8/site-packages/sklearn/multiclass.py:74: UserWarning: Label not 8 is present in all training examples.\n",
      "  warnings.warn(\"Label %s is present in all training examples.\" %\n",
      "/home/kavin/anaconda3/envs/python3/lib/python3.8/site-packages/sklearn/multiclass.py:74: UserWarning: Label not 10 is present in all training examples.\n",
      "  warnings.warn(\"Label %s is present in all training examples.\" %\n"
     ]
    },
    {
     "name": "stdout",
     "output_type": "stream",
     "text": [
      "Fold : 0\n",
      "Simple :\n",
      "                    precision    recall  f1-score   support\n",
      "\n",
      "         unlabeled       0.90      0.87      0.88     17579\n",
      "      driving bike       0.00      0.00      0.00         0\n",
      "     having dinner       0.14      0.14      0.14      1657\n",
      "      having lunch       0.44      0.28      0.34       746\n",
      "  using the toilet       0.17      0.01      0.01       129\n",
      "   queuing in line       0.00      0.00      0.00       135\n",
      "           walking       0.34      0.11      0.17       663\n",
      "    walking freely       0.66      0.80      0.73       959\n",
      "     washing hands       0.00      0.00      0.00         0\n",
      "           sitting       0.87      0.67      0.75     21189\n",
      "          standing       0.00      0.00      0.00         0\n",
      "   having a coffee       0.00      0.00      0.00       307\n",
      "             lying       0.00      0.00      0.00         0\n",
      "    using computer       0.00      0.00      0.00         0\n",
      "   desk activities       0.88      0.63      0.73     19548\n",
      "carrying something       0.10      0.03      0.05       446\n",
      "\n",
      "         micro avg       0.84      0.68      0.75     63358\n",
      "         macro avg       0.28      0.22      0.24     63358\n",
      "      weighted avg       0.83      0.68      0.74     63358\n",
      "       samples avg       0.73      0.70      0.71     63358\n",
      "\n",
      "Accuracy: 0.6514\n"
     ]
    },
    {
     "name": "stderr",
     "output_type": "stream",
     "text": [
      "/home/kavin/anaconda3/envs/python3/lib/python3.8/site-packages/sklearn/metrics/_classification.py:1272: UndefinedMetricWarning: Precision and F-score are ill-defined and being set to 0.0 in labels with no predicted samples. Use `zero_division` parameter to control this behavior.\n",
      "  _warn_prf(average, modifier, msg_start, len(result))\n",
      "/home/kavin/anaconda3/envs/python3/lib/python3.8/site-packages/sklearn/metrics/_classification.py:1272: UndefinedMetricWarning: Recall and F-score are ill-defined and being set to 0.0 in labels with no true samples. Use `zero_division` parameter to control this behavior.\n",
      "  _warn_prf(average, modifier, msg_start, len(result))\n",
      "/home/kavin/anaconda3/envs/python3/lib/python3.8/site-packages/sklearn/metrics/_classification.py:1272: UndefinedMetricWarning: Precision and F-score are ill-defined and being set to 0.0 in samples with no predicted labels. Use `zero_division` parameter to control this behavior.\n",
      "  _warn_prf(average, modifier, msg_start, len(result))\n",
      "/home/kavin/anaconda3/envs/python3/lib/python3.8/site-packages/sklearn/metrics/_classification.py:1514: UndefinedMetricWarning: F-score is ill-defined and being set to 0.0 in labels with no true nor predicted samples. Use `zero_division` parameter to control this behavior.\n",
      "  _warn_prf(\n",
      "/home/kavin/anaconda3/envs/python3/lib/python3.8/site-packages/sklearn/metrics/_classification.py:1272: UndefinedMetricWarning: Precision is ill-defined and being set to 0.0 in labels with no predicted samples. Use `zero_division` parameter to control this behavior.\n",
      "  _warn_prf(average, modifier, msg_start, len(result))\n",
      "/home/kavin/anaconda3/envs/python3/lib/python3.8/site-packages/sklearn/metrics/_classification.py:1272: UndefinedMetricWarning: Recall is ill-defined and being set to 0.0 in labels with no true samples. Use `zero_division` parameter to control this behavior.\n",
      "  _warn_prf(average, modifier, msg_start, len(result))\n"
     ]
    },
    {
     "name": "stdout",
     "output_type": "stream",
     "text": [
      "F1: 0.2376\n",
      "Precision: 0.2805\n",
      "Recall: 0.2208\n"
     ]
    },
    {
     "name": "stderr",
     "output_type": "stream",
     "text": [
      "/home/kavin/anaconda3/envs/python3/lib/python3.8/site-packages/sklearn/metrics/_classification.py:1859: UserWarning: y_pred contains classes not in y_true\n",
      "  warnings.warn('y_pred contains classes not in y_true')\n"
     ]
    },
    {
     "name": "stdout",
     "output_type": "stream",
     "text": [
      "BA: 0.3532\n",
      "Complex :\n",
      "                                  precision    recall  f1-score   support\n",
      "\n",
      "                       unlabeled       0.40      0.36      0.38     11321\n",
      "                     driving car       0.76      0.69      0.72      1334\n",
      "                personal hygiene       0.16      0.15      0.16       115\n",
      "        sitting  having a coffee       0.00      0.00      0.00       307\n",
      "        sitting  desk activities       0.88      0.63      0.73     19548\n",
      "walking while carrying something       0.10      0.03      0.05       446\n",
      "           picking up mensa food       0.11      0.06      0.08       125\n",
      "           lying  using computer       0.00      0.00      0.00         0\n",
      "        discussing at whiteboard       0.68      0.08      0.14      2136\n",
      "               dinner activities       0.03      0.01      0.01      1607\n",
      "                       commuting       0.06      0.01      0.02      1681\n",
      "                   lunch routine       0.44      0.29      0.35      2134\n",
      "                     office work       0.27      0.07      0.11      2303\n",
      "\n",
      "                       micro avg       0.64      0.42      0.51     43057\n",
      "                       macro avg       0.30      0.18      0.21     43057\n",
      "                    weighted avg       0.60      0.42      0.49     43057\n",
      "                     samples avg       0.42      0.42      0.42     43057\n",
      "\n",
      "Accuracy: 0.4099\n"
     ]
    },
    {
     "name": "stderr",
     "output_type": "stream",
     "text": [
      "/home/kavin/anaconda3/envs/python3/lib/python3.8/site-packages/sklearn/metrics/_classification.py:1272: UndefinedMetricWarning: Precision and F-score are ill-defined and being set to 0.0 in labels with no predicted samples. Use `zero_division` parameter to control this behavior.\n",
      "  _warn_prf(average, modifier, msg_start, len(result))\n",
      "/home/kavin/anaconda3/envs/python3/lib/python3.8/site-packages/sklearn/metrics/_classification.py:1272: UndefinedMetricWarning: Recall and F-score are ill-defined and being set to 0.0 in labels with no true samples. Use `zero_division` parameter to control this behavior.\n",
      "  _warn_prf(average, modifier, msg_start, len(result))\n",
      "/home/kavin/anaconda3/envs/python3/lib/python3.8/site-packages/sklearn/metrics/_classification.py:1272: UndefinedMetricWarning: Precision and F-score are ill-defined and being set to 0.0 in samples with no predicted labels. Use `zero_division` parameter to control this behavior.\n",
      "  _warn_prf(average, modifier, msg_start, len(result))\n",
      "/home/kavin/anaconda3/envs/python3/lib/python3.8/site-packages/sklearn/metrics/_classification.py:1514: UndefinedMetricWarning: F-score is ill-defined and being set to 0.0 in labels with no true nor predicted samples. Use `zero_division` parameter to control this behavior.\n",
      "  _warn_prf(\n"
     ]
    },
    {
     "name": "stdout",
     "output_type": "stream",
     "text": [
      "F1: 0.2116\n",
      "Precision: 0.3000\n",
      "Recall: 0.1824\n",
      "BA: 0.1071\n"
     ]
    },
    {
     "name": "stderr",
     "output_type": "stream",
     "text": [
      "/home/kavin/anaconda3/envs/python3/lib/python3.8/site-packages/sklearn/metrics/_classification.py:1272: UndefinedMetricWarning: Precision is ill-defined and being set to 0.0 in labels with no predicted samples. Use `zero_division` parameter to control this behavior.\n",
      "  _warn_prf(average, modifier, msg_start, len(result))\n",
      "/home/kavin/anaconda3/envs/python3/lib/python3.8/site-packages/sklearn/metrics/_classification.py:1272: UndefinedMetricWarning: Recall is ill-defined and being set to 0.0 in labels with no true samples. Use `zero_division` parameter to control this behavior.\n",
      "  _warn_prf(average, modifier, msg_start, len(result))\n",
      "/home/kavin/anaconda3/envs/python3/lib/python3.8/site-packages/sklearn/metrics/_classification.py:1859: UserWarning: y_pred contains classes not in y_true\n",
      "  warnings.warn('y_pred contains classes not in y_true')\n",
      "/home/kavin/anaconda3/envs/python3/lib/python3.8/site-packages/sklearn/multiclass.py:74: UserWarning: Label not 8 is present in all training examples.\n",
      "  warnings.warn(\"Label %s is present in all training examples.\" %\n",
      "/home/kavin/anaconda3/envs/python3/lib/python3.8/site-packages/sklearn/multiclass.py:74: UserWarning: Label not 10 is present in all training examples.\n",
      "  warnings.warn(\"Label %s is present in all training examples.\" %\n"
     ]
    },
    {
     "name": "stdout",
     "output_type": "stream",
     "text": [
      "Fold : 1\n",
      "Simple :\n",
      "                    precision    recall  f1-score   support\n",
      "\n",
      "         unlabeled       0.24      0.51      0.33      5318\n",
      "      driving bike       0.00      0.00      0.00         0\n",
      "     having dinner       0.90      0.45      0.60       896\n",
      "      having lunch       0.96      0.40      0.57       776\n",
      "  using the toilet       0.00      0.00      0.00         0\n",
      "   queuing in line       0.00      0.00      0.00         0\n",
      "           walking       0.95      0.56      0.70       616\n",
      "    walking freely       0.87      0.73      0.79       633\n",
      "     washing hands       0.00      0.00      0.00         0\n",
      "           sitting       0.89      0.87      0.88     26000\n",
      "          standing       0.00      0.00      0.00         0\n",
      "   having a coffee       0.00      0.00      0.00         0\n",
      "             lying       0.00      0.00      0.00      8930\n",
      "    using computer       0.00      0.00      0.00      8930\n",
      "   desk activities       0.93      0.84      0.88     24438\n",
      "carrying something       0.79      0.06      0.11       330\n",
      "\n",
      "         micro avg       0.78      0.62      0.69     76867\n",
      "         macro avg       0.41      0.28      0.30     76867\n",
      "      weighted avg       0.65      0.62      0.63     76867\n",
      "       samples avg       0.61      0.61      0.61     76867\n",
      "\n",
      "Accuracy: 0.5677\n"
     ]
    },
    {
     "name": "stderr",
     "output_type": "stream",
     "text": [
      "/home/kavin/anaconda3/envs/python3/lib/python3.8/site-packages/sklearn/metrics/_classification.py:1272: UndefinedMetricWarning: Precision and F-score are ill-defined and being set to 0.0 in labels with no predicted samples. Use `zero_division` parameter to control this behavior.\n",
      "  _warn_prf(average, modifier, msg_start, len(result))\n",
      "/home/kavin/anaconda3/envs/python3/lib/python3.8/site-packages/sklearn/metrics/_classification.py:1272: UndefinedMetricWarning: Recall and F-score are ill-defined and being set to 0.0 in labels with no true samples. Use `zero_division` parameter to control this behavior.\n",
      "  _warn_prf(average, modifier, msg_start, len(result))\n",
      "/home/kavin/anaconda3/envs/python3/lib/python3.8/site-packages/sklearn/metrics/_classification.py:1272: UndefinedMetricWarning: Precision and F-score are ill-defined and being set to 0.0 in samples with no predicted labels. Use `zero_division` parameter to control this behavior.\n",
      "  _warn_prf(average, modifier, msg_start, len(result))\n",
      "/home/kavin/anaconda3/envs/python3/lib/python3.8/site-packages/sklearn/metrics/_classification.py:1514: UndefinedMetricWarning: F-score is ill-defined and being set to 0.0 in labels with no true nor predicted samples. Use `zero_division` parameter to control this behavior.\n",
      "  _warn_prf(\n",
      "/home/kavin/anaconda3/envs/python3/lib/python3.8/site-packages/sklearn/metrics/_classification.py:1272: UndefinedMetricWarning: Precision is ill-defined and being set to 0.0 in labels with no predicted samples. Use `zero_division` parameter to control this behavior.\n",
      "  _warn_prf(average, modifier, msg_start, len(result))\n",
      "/home/kavin/anaconda3/envs/python3/lib/python3.8/site-packages/sklearn/metrics/_classification.py:1272: UndefinedMetricWarning: Recall is ill-defined and being set to 0.0 in labels with no true samples. Use `zero_division` parameter to control this behavior.\n",
      "  _warn_prf(average, modifier, msg_start, len(result))\n"
     ]
    },
    {
     "name": "stdout",
     "output_type": "stream",
     "text": [
      "F1: 0.3039\n",
      "Precision: 0.4082\n",
      "Recall: 0.2763\n"
     ]
    },
    {
     "name": "stderr",
     "output_type": "stream",
     "text": [
      "/home/kavin/anaconda3/envs/python3/lib/python3.8/site-packages/sklearn/metrics/_classification.py:1859: UserWarning: y_pred contains classes not in y_true\n",
      "  warnings.warn('y_pred contains classes not in y_true')\n"
     ]
    },
    {
     "name": "stdout",
     "output_type": "stream",
     "text": [
      "BA: 0.4557\n",
      "Complex :\n",
      "                                  precision    recall  f1-score   support\n",
      "\n",
      "                       unlabeled       0.07      0.39      0.12      1976\n",
      "                     driving car       0.52      0.75      0.61      1562\n",
      "                personal hygiene       0.00      0.00      0.00         0\n",
      "        sitting  having a coffee       0.00      0.00      0.00         0\n",
      "        sitting  desk activities       0.93      0.84      0.88     24438\n",
      "walking while carrying something       0.79      0.06      0.11       330\n",
      "           picking up mensa food       0.87      0.08      0.15       161\n",
      "           lying  using computer       0.00      0.00      0.00      8930\n",
      "        discussing at whiteboard       0.00      0.00      0.00         0\n",
      "               dinner activities       0.40      0.11      0.17      1121\n",
      "                       commuting       0.50      0.27      0.35       801\n",
      "                   lunch routine       0.92      0.23      0.37      2069\n",
      "                     office work       0.10      0.02      0.04      1781\n",
      "\n",
      "                       micro avg       0.63      0.54      0.58     43169\n",
      "                       macro avg       0.39      0.21      0.22     43169\n",
      "                    weighted avg       0.63      0.54      0.56     43169\n",
      "                     samples avg       0.53      0.54      0.54     43169\n",
      "\n",
      "Accuracy: 0.5292\n"
     ]
    },
    {
     "name": "stderr",
     "output_type": "stream",
     "text": [
      "/home/kavin/anaconda3/envs/python3/lib/python3.8/site-packages/sklearn/metrics/_classification.py:1272: UndefinedMetricWarning: Precision and F-score are ill-defined and being set to 0.0 in labels with no predicted samples. Use `zero_division` parameter to control this behavior.\n",
      "  _warn_prf(average, modifier, msg_start, len(result))\n",
      "/home/kavin/anaconda3/envs/python3/lib/python3.8/site-packages/sklearn/metrics/_classification.py:1272: UndefinedMetricWarning: Recall and F-score are ill-defined and being set to 0.0 in labels with no true samples. Use `zero_division` parameter to control this behavior.\n",
      "  _warn_prf(average, modifier, msg_start, len(result))\n",
      "/home/kavin/anaconda3/envs/python3/lib/python3.8/site-packages/sklearn/metrics/_classification.py:1272: UndefinedMetricWarning: Precision and F-score are ill-defined and being set to 0.0 in samples with no predicted labels. Use `zero_division` parameter to control this behavior.\n",
      "  _warn_prf(average, modifier, msg_start, len(result))\n"
     ]
    },
    {
     "name": "stdout",
     "output_type": "stream",
     "text": [
      "F1: 0.2152\n",
      "Precision: 0.3921\n",
      "Recall: 0.2116\n",
      "BA: 0.0924\n"
     ]
    },
    {
     "name": "stderr",
     "output_type": "stream",
     "text": [
      "/home/kavin/anaconda3/envs/python3/lib/python3.8/site-packages/sklearn/metrics/_classification.py:1272: UndefinedMetricWarning: Precision is ill-defined and being set to 0.0 in labels with no predicted samples. Use `zero_division` parameter to control this behavior.\n",
      "  _warn_prf(average, modifier, msg_start, len(result))\n",
      "/home/kavin/anaconda3/envs/python3/lib/python3.8/site-packages/sklearn/metrics/_classification.py:1272: UndefinedMetricWarning: Recall is ill-defined and being set to 0.0 in labels with no true samples. Use `zero_division` parameter to control this behavior.\n",
      "  _warn_prf(average, modifier, msg_start, len(result))\n",
      "/home/kavin/anaconda3/envs/python3/lib/python3.8/site-packages/sklearn/metrics/_classification.py:1859: UserWarning: y_pred contains classes not in y_true\n",
      "  warnings.warn('y_pred contains classes not in y_true')\n",
      "/home/kavin/anaconda3/envs/python3/lib/python3.8/site-packages/sklearn/multiclass.py:74: UserWarning: Label not 8 is present in all training examples.\n",
      "  warnings.warn(\"Label %s is present in all training examples.\" %\n",
      "/home/kavin/anaconda3/envs/python3/lib/python3.8/site-packages/sklearn/multiclass.py:74: UserWarning: Label not 10 is present in all training examples.\n",
      "  warnings.warn(\"Label %s is present in all training examples.\" %\n"
     ]
    },
    {
     "name": "stdout",
     "output_type": "stream",
     "text": [
      "Fold : 2\n",
      "Simple :\n",
      "                    precision    recall  f1-score   support\n",
      "\n",
      "         unlabeled       0.85      0.74      0.79     10888\n",
      "      driving bike       0.93      0.81      0.87      1463\n",
      "     having dinner       0.15      0.02      0.04       863\n",
      "      having lunch       0.57      0.34      0.42       747\n",
      "  using the toilet       1.00      0.75      0.86        24\n",
      "   queuing in line       0.00      0.00      0.00        47\n",
      "           walking       0.56      0.35      0.43       209\n",
      "    walking freely       0.75      0.78      0.77      1198\n",
      "     washing hands       0.00      0.00      0.00         0\n",
      "           sitting       0.91      0.95      0.93     28389\n",
      "          standing       0.00      0.00      0.00         0\n",
      "   having a coffee       0.00      0.00      0.00       442\n",
      "             lying       0.00      0.00      0.00         0\n",
      "    using computer       0.00      0.00      0.00         0\n",
      "   desk activities       0.91      0.95      0.93     27947\n",
      "carrying something       0.50      0.31      0.38       144\n",
      "\n",
      "         micro avg       0.89      0.89      0.89     72361\n",
      "         macro avg       0.45      0.38      0.40     72361\n",
      "      weighted avg       0.88      0.89      0.88     72361\n",
      "       samples avg       0.85      0.85      0.85     72361\n",
      "\n",
      "Accuracy: 0.8146\n"
     ]
    },
    {
     "name": "stderr",
     "output_type": "stream",
     "text": [
      "/home/kavin/anaconda3/envs/python3/lib/python3.8/site-packages/sklearn/metrics/_classification.py:1272: UndefinedMetricWarning: Precision and F-score are ill-defined and being set to 0.0 in labels with no predicted samples. Use `zero_division` parameter to control this behavior.\n",
      "  _warn_prf(average, modifier, msg_start, len(result))\n",
      "/home/kavin/anaconda3/envs/python3/lib/python3.8/site-packages/sklearn/metrics/_classification.py:1272: UndefinedMetricWarning: Recall and F-score are ill-defined and being set to 0.0 in labels with no true samples. Use `zero_division` parameter to control this behavior.\n",
      "  _warn_prf(average, modifier, msg_start, len(result))\n",
      "/home/kavin/anaconda3/envs/python3/lib/python3.8/site-packages/sklearn/metrics/_classification.py:1272: UndefinedMetricWarning: Precision and F-score are ill-defined and being set to 0.0 in samples with no predicted labels. Use `zero_division` parameter to control this behavior.\n",
      "  _warn_prf(average, modifier, msg_start, len(result))\n",
      "/home/kavin/anaconda3/envs/python3/lib/python3.8/site-packages/sklearn/metrics/_classification.py:1514: UndefinedMetricWarning: F-score is ill-defined and being set to 0.0 in labels with no true nor predicted samples. Use `zero_division` parameter to control this behavior.\n",
      "  _warn_prf(\n",
      "/home/kavin/anaconda3/envs/python3/lib/python3.8/site-packages/sklearn/metrics/_classification.py:1272: UndefinedMetricWarning: Precision is ill-defined and being set to 0.0 in labels with no predicted samples. Use `zero_division` parameter to control this behavior.\n",
      "  _warn_prf(average, modifier, msg_start, len(result))\n",
      "/home/kavin/anaconda3/envs/python3/lib/python3.8/site-packages/sklearn/metrics/_classification.py:1272: UndefinedMetricWarning: Recall is ill-defined and being set to 0.0 in labels with no true samples. Use `zero_division` parameter to control this behavior.\n",
      "  _warn_prf(average, modifier, msg_start, len(result))\n"
     ]
    },
    {
     "name": "stdout",
     "output_type": "stream",
     "text": [
      "F1: 0.4013\n",
      "Precision: 0.4468\n",
      "Recall: 0.3750\n"
     ]
    },
    {
     "name": "stderr",
     "output_type": "stream",
     "text": [
      "/home/kavin/anaconda3/envs/python3/lib/python3.8/site-packages/sklearn/metrics/_classification.py:1859: UserWarning: y_pred contains classes not in y_true\n",
      "  warnings.warn('y_pred contains classes not in y_true')\n"
     ]
    },
    {
     "name": "stdout",
     "output_type": "stream",
     "text": [
      "BA: 0.4246\n",
      "Complex :\n",
      "                                  precision    recall  f1-score   support\n",
      "\n",
      "                       unlabeled       0.52      0.30      0.38      6429\n",
      "                     driving car       0.00      0.00      0.00         0\n",
      "                personal hygiene       0.52      0.05      0.09       291\n",
      "        sitting  having a coffee       0.00      0.00      0.00       442\n",
      "        sitting  desk activities       0.91      0.95      0.93     27947\n",
      "walking while carrying something       0.50      0.31      0.38       144\n",
      "           picking up mensa food       0.42      0.05      0.09       271\n",
      "           lying  using computer       0.00      0.00      0.00         0\n",
      "        discussing at whiteboard       0.00      0.00      0.00         0\n",
      "               dinner activities       0.10      0.01      0.01      1697\n",
      "                       commuting       0.84      0.48      0.61      2891\n",
      "                   lunch routine       0.55      0.28      0.37      2294\n",
      "                     office work       0.03      0.01      0.02      1422\n",
      "\n",
      "                       micro avg       0.83      0.70      0.76     43828\n",
      "                       macro avg       0.34      0.19      0.22     43828\n",
      "                    weighted avg       0.75      0.70      0.71     43828\n",
      "                     samples avg       0.70      0.70      0.70     43828\n",
      "\n",
      "Accuracy: 0.6925\n"
     ]
    },
    {
     "name": "stderr",
     "output_type": "stream",
     "text": [
      "/home/kavin/anaconda3/envs/python3/lib/python3.8/site-packages/sklearn/metrics/_classification.py:1272: UndefinedMetricWarning: Recall and F-score are ill-defined and being set to 0.0 in labels with no true samples. Use `zero_division` parameter to control this behavior.\n",
      "  _warn_prf(average, modifier, msg_start, len(result))\n",
      "/home/kavin/anaconda3/envs/python3/lib/python3.8/site-packages/sklearn/metrics/_classification.py:1272: UndefinedMetricWarning: Precision and F-score are ill-defined and being set to 0.0 in samples with no predicted labels. Use `zero_division` parameter to control this behavior.\n",
      "  _warn_prf(average, modifier, msg_start, len(result))\n"
     ]
    },
    {
     "name": "stdout",
     "output_type": "stream",
     "text": [
      "F1: 0.2211\n",
      "Precision: 0.3374\n",
      "Recall: 0.1868\n",
      "BA: 0.0867\n"
     ]
    },
    {
     "name": "stderr",
     "output_type": "stream",
     "text": [
      "/home/kavin/anaconda3/envs/python3/lib/python3.8/site-packages/sklearn/metrics/_classification.py:1272: UndefinedMetricWarning: Recall is ill-defined and being set to 0.0 in labels with no true samples. Use `zero_division` parameter to control this behavior.\n",
      "  _warn_prf(average, modifier, msg_start, len(result))\n",
      "/home/kavin/anaconda3/envs/python3/lib/python3.8/site-packages/sklearn/metrics/_classification.py:1859: UserWarning: y_pred contains classes not in y_true\n",
      "  warnings.warn('y_pred contains classes not in y_true')\n",
      "/home/kavin/anaconda3/envs/python3/lib/python3.8/site-packages/sklearn/multiclass.py:74: UserWarning: Label not 8 is present in all training examples.\n",
      "  warnings.warn(\"Label %s is present in all training examples.\" %\n",
      "/home/kavin/anaconda3/envs/python3/lib/python3.8/site-packages/sklearn/multiclass.py:74: UserWarning: Label not 10 is present in all training examples.\n",
      "  warnings.warn(\"Label %s is present in all training examples.\" %\n"
     ]
    },
    {
     "name": "stdout",
     "output_type": "stream",
     "text": [
      "Fold : 3\n",
      "Simple :\n",
      "                    precision    recall  f1-score   support\n",
      "\n",
      "         unlabeled       0.65      0.84      0.74      8430\n",
      "      driving bike       0.00      0.00      0.00         0\n",
      "     having dinner       0.02      0.02      0.02       422\n",
      "      having lunch       0.82      0.17      0.29       691\n",
      "  using the toilet       0.00      0.00      0.00       253\n",
      "   queuing in line       0.00      0.00      0.00       515\n",
      "           walking       0.66      0.33      0.44       259\n",
      "    walking freely       0.88      0.59      0.71      1354\n",
      "     washing hands       0.00      0.00      0.00         0\n",
      "           sitting       0.95      0.91      0.93     31275\n",
      "          standing       0.00      0.00      0.00         0\n",
      "   having a coffee       0.00      0.00      0.00         0\n",
      "             lying       0.00      0.00      0.00         0\n",
      "    using computer       0.00      0.00      0.00         0\n",
      "   desk activities       0.95      0.88      0.92     29239\n",
      "carrying something       0.00      0.00      0.00         0\n",
      "\n",
      "         micro avg       0.89      0.86      0.88     72438\n",
      "         macro avg       0.31      0.23      0.25     72438\n",
      "      weighted avg       0.90      0.86      0.87     72438\n",
      "       samples avg       0.85      0.84      0.84     72438\n",
      "\n",
      "Accuracy: 0.7799\n"
     ]
    },
    {
     "name": "stderr",
     "output_type": "stream",
     "text": [
      "/home/kavin/anaconda3/envs/python3/lib/python3.8/site-packages/sklearn/metrics/_classification.py:1272: UndefinedMetricWarning: Precision and F-score are ill-defined and being set to 0.0 in labels with no predicted samples. Use `zero_division` parameter to control this behavior.\n",
      "  _warn_prf(average, modifier, msg_start, len(result))\n",
      "/home/kavin/anaconda3/envs/python3/lib/python3.8/site-packages/sklearn/metrics/_classification.py:1272: UndefinedMetricWarning: Recall and F-score are ill-defined and being set to 0.0 in labels with no true samples. Use `zero_division` parameter to control this behavior.\n",
      "  _warn_prf(average, modifier, msg_start, len(result))\n",
      "/home/kavin/anaconda3/envs/python3/lib/python3.8/site-packages/sklearn/metrics/_classification.py:1272: UndefinedMetricWarning: Precision and F-score are ill-defined and being set to 0.0 in samples with no predicted labels. Use `zero_division` parameter to control this behavior.\n",
      "  _warn_prf(average, modifier, msg_start, len(result))\n",
      "/home/kavin/anaconda3/envs/python3/lib/python3.8/site-packages/sklearn/metrics/_classification.py:1514: UndefinedMetricWarning: F-score is ill-defined and being set to 0.0 in labels with no true nor predicted samples. Use `zero_division` parameter to control this behavior.\n",
      "  _warn_prf(\n",
      "/home/kavin/anaconda3/envs/python3/lib/python3.8/site-packages/sklearn/metrics/_classification.py:1272: UndefinedMetricWarning: Precision is ill-defined and being set to 0.0 in labels with no predicted samples. Use `zero_division` parameter to control this behavior.\n",
      "  _warn_prf(average, modifier, msg_start, len(result))\n",
      "/home/kavin/anaconda3/envs/python3/lib/python3.8/site-packages/sklearn/metrics/_classification.py:1272: UndefinedMetricWarning: Recall is ill-defined and being set to 0.0 in labels with no true samples. Use `zero_division` parameter to control this behavior.\n",
      "  _warn_prf(average, modifier, msg_start, len(result))\n"
     ]
    },
    {
     "name": "stdout",
     "output_type": "stream",
     "text": [
      "F1: 0.2520\n",
      "Precision: 0.3081\n",
      "Recall: 0.2345\n"
     ]
    },
    {
     "name": "stderr",
     "output_type": "stream",
     "text": [
      "/home/kavin/anaconda3/envs/python3/lib/python3.8/site-packages/sklearn/metrics/_classification.py:1859: UserWarning: y_pred contains classes not in y_true\n",
      "  warnings.warn('y_pred contains classes not in y_true')\n"
     ]
    },
    {
     "name": "stdout",
     "output_type": "stream",
     "text": [
      "BA: 0.3469\n",
      "Complex :\n",
      "                                  precision    recall  f1-score   support\n",
      "\n",
      "                       unlabeled       0.42      0.30      0.35      6126\n",
      "                     driving car       0.93      0.74      0.82      2036\n",
      "                personal hygiene       0.00      0.00      0.00         0\n",
      "        sitting  having a coffee       0.00      0.00      0.00         0\n",
      "        sitting  desk activities       0.95      0.88      0.92     29239\n",
      "walking while carrying something       0.00      0.00      0.00         0\n",
      "           picking up mensa food       0.02      0.03      0.02       120\n",
      "           lying  using computer       0.00      0.00      0.00         0\n",
      "        discussing at whiteboard       0.00      0.00      0.00         0\n",
      "               dinner activities       0.14      0.08      0.11       814\n",
      "                       commuting       0.17      0.11      0.13       941\n",
      "                   lunch routine       0.74      0.31      0.43      2956\n",
      "                     office work       0.03      0.02      0.02       967\n",
      "\n",
      "                       micro avg       0.82      0.70      0.76     43199\n",
      "                       macro avg       0.26      0.19      0.22     43199\n",
      "                    weighted avg       0.80      0.70      0.74     43199\n",
      "                     samples avg       0.69      0.70      0.69     43199\n",
      "\n",
      "Accuracy: 0.6787\n"
     ]
    },
    {
     "name": "stderr",
     "output_type": "stream",
     "text": [
      "/home/kavin/anaconda3/envs/python3/lib/python3.8/site-packages/sklearn/metrics/_classification.py:1272: UndefinedMetricWarning: Precision and F-score are ill-defined and being set to 0.0 in labels with no predicted samples. Use `zero_division` parameter to control this behavior.\n",
      "  _warn_prf(average, modifier, msg_start, len(result))\n",
      "/home/kavin/anaconda3/envs/python3/lib/python3.8/site-packages/sklearn/metrics/_classification.py:1272: UndefinedMetricWarning: Recall and F-score are ill-defined and being set to 0.0 in labels with no true samples. Use `zero_division` parameter to control this behavior.\n",
      "  _warn_prf(average, modifier, msg_start, len(result))\n",
      "/home/kavin/anaconda3/envs/python3/lib/python3.8/site-packages/sklearn/metrics/_classification.py:1272: UndefinedMetricWarning: Precision and F-score are ill-defined and being set to 0.0 in samples with no predicted labels. Use `zero_division` parameter to control this behavior.\n",
      "  _warn_prf(average, modifier, msg_start, len(result))\n",
      "/home/kavin/anaconda3/envs/python3/lib/python3.8/site-packages/sklearn/metrics/_classification.py:1514: UndefinedMetricWarning: F-score is ill-defined and being set to 0.0 in labels with no true nor predicted samples. Use `zero_division` parameter to control this behavior.\n",
      "  _warn_prf(\n"
     ]
    },
    {
     "name": "stdout",
     "output_type": "stream",
     "text": [
      "F1: 0.2156\n",
      "Precision: 0.2608\n",
      "Recall: 0.1898\n",
      "BA: 0.0914\n"
     ]
    },
    {
     "name": "stderr",
     "output_type": "stream",
     "text": [
      "/home/kavin/anaconda3/envs/python3/lib/python3.8/site-packages/sklearn/metrics/_classification.py:1272: UndefinedMetricWarning: Precision is ill-defined and being set to 0.0 in labels with no predicted samples. Use `zero_division` parameter to control this behavior.\n",
      "  _warn_prf(average, modifier, msg_start, len(result))\n",
      "/home/kavin/anaconda3/envs/python3/lib/python3.8/site-packages/sklearn/metrics/_classification.py:1272: UndefinedMetricWarning: Recall is ill-defined and being set to 0.0 in labels with no true samples. Use `zero_division` parameter to control this behavior.\n",
      "  _warn_prf(average, modifier, msg_start, len(result))\n",
      "/home/kavin/anaconda3/envs/python3/lib/python3.8/site-packages/sklearn/metrics/_classification.py:1859: UserWarning: y_pred contains classes not in y_true\n",
      "  warnings.warn('y_pred contains classes not in y_true')\n",
      "/home/kavin/anaconda3/envs/python3/lib/python3.8/site-packages/sklearn/multiclass.py:74: UserWarning: Label not 8 is present in all training examples.\n",
      "  warnings.warn(\"Label %s is present in all training examples.\" %\n",
      "/home/kavin/anaconda3/envs/python3/lib/python3.8/site-packages/sklearn/multiclass.py:74: UserWarning: Label not 10 is present in all training examples.\n",
      "  warnings.warn(\"Label %s is present in all training examples.\" %\n"
     ]
    },
    {
     "name": "stdout",
     "output_type": "stream",
     "text": [
      "Fold : 4\n",
      "Simple :\n",
      "                    precision    recall  f1-score   support\n",
      "\n",
      "         unlabeled       0.80      0.60      0.69      9488\n",
      "      driving bike       0.00      0.00      0.00         0\n",
      "     having dinner       0.32      0.08      0.13      1251\n",
      "      having lunch       0.83      0.33      0.47       452\n",
      "  using the toilet       1.00      0.07      0.13       228\n",
      "   queuing in line       0.00      0.00      0.00        90\n",
      "           walking       0.75      0.42      0.54       122\n",
      "    walking freely       0.91      0.87      0.89      1170\n",
      "     washing hands       0.00      0.00      0.00         0\n",
      "           sitting       0.83      0.94      0.88     25279\n",
      "          standing       0.00      0.00      0.00         0\n",
      "   having a coffee       0.00      0.00      0.00       255\n",
      "             lying       0.99      0.74      0.85      2869\n",
      "    using computer       0.99      0.74      0.85      2869\n",
      "   desk activities       0.82      0.95      0.88     23997\n",
      "carrying something       0.56      0.17      0.27       103\n",
      "\n",
      "         micro avg       0.83      0.85      0.84     68173\n",
      "         macro avg       0.55      0.37      0.41     68173\n",
      "      weighted avg       0.82      0.85      0.83     68173\n",
      "       samples avg       0.80      0.80      0.80     68173\n",
      "\n",
      "Accuracy: 0.7816\n"
     ]
    },
    {
     "name": "stderr",
     "output_type": "stream",
     "text": [
      "/home/kavin/anaconda3/envs/python3/lib/python3.8/site-packages/sklearn/metrics/_classification.py:1272: UndefinedMetricWarning: Precision and F-score are ill-defined and being set to 0.0 in labels with no predicted samples. Use `zero_division` parameter to control this behavior.\n",
      "  _warn_prf(average, modifier, msg_start, len(result))\n",
      "/home/kavin/anaconda3/envs/python3/lib/python3.8/site-packages/sklearn/metrics/_classification.py:1272: UndefinedMetricWarning: Recall and F-score are ill-defined and being set to 0.0 in labels with no true samples. Use `zero_division` parameter to control this behavior.\n",
      "  _warn_prf(average, modifier, msg_start, len(result))\n",
      "/home/kavin/anaconda3/envs/python3/lib/python3.8/site-packages/sklearn/metrics/_classification.py:1272: UndefinedMetricWarning: Precision and F-score are ill-defined and being set to 0.0 in samples with no predicted labels. Use `zero_division` parameter to control this behavior.\n",
      "  _warn_prf(average, modifier, msg_start, len(result))\n",
      "/home/kavin/anaconda3/envs/python3/lib/python3.8/site-packages/sklearn/metrics/_classification.py:1514: UndefinedMetricWarning: F-score is ill-defined and being set to 0.0 in labels with no true nor predicted samples. Use `zero_division` parameter to control this behavior.\n",
      "  _warn_prf(\n",
      "/home/kavin/anaconda3/envs/python3/lib/python3.8/site-packages/sklearn/metrics/_classification.py:1272: UndefinedMetricWarning: Precision is ill-defined and being set to 0.0 in labels with no predicted samples. Use `zero_division` parameter to control this behavior.\n",
      "  _warn_prf(average, modifier, msg_start, len(result))\n",
      "/home/kavin/anaconda3/envs/python3/lib/python3.8/site-packages/sklearn/metrics/_classification.py:1272: UndefinedMetricWarning: Recall is ill-defined and being set to 0.0 in labels with no true samples. Use `zero_division` parameter to control this behavior.\n",
      "  _warn_prf(average, modifier, msg_start, len(result))\n"
     ]
    },
    {
     "name": "stdout",
     "output_type": "stream",
     "text": [
      "F1: 0.4104\n",
      "Precision: 0.5501\n",
      "Recall: 0.3694\n"
     ]
    },
    {
     "name": "stderr",
     "output_type": "stream",
     "text": [
      "/home/kavin/anaconda3/envs/python3/lib/python3.8/site-packages/sklearn/metrics/_classification.py:1859: UserWarning: y_pred contains classes not in y_true\n",
      "  warnings.warn('y_pred contains classes not in y_true')\n"
     ]
    },
    {
     "name": "stdout",
     "output_type": "stream",
     "text": [
      "BA: 0.4290\n",
      "Complex :\n",
      "                                  precision    recall  f1-score   support\n",
      "\n",
      "                       unlabeled       0.29      0.21      0.24      6135\n",
      "                     driving car       0.96      0.63      0.76      1027\n",
      "                personal hygiene       0.17      0.04      0.07       181\n",
      "        sitting  having a coffee       0.00      0.00      0.00       255\n",
      "        sitting  desk activities       0.82      0.95      0.88     23997\n",
      "walking while carrying something       0.56      0.17      0.27       103\n",
      "           picking up mensa food       0.58      0.04      0.08       165\n",
      "           lying  using computer       0.99      0.74      0.85      2869\n",
      "        discussing at whiteboard       0.79      0.11      0.20      1619\n",
      "               dinner activities       0.00      0.00      0.00       597\n",
      "                       commuting       0.24      0.01      0.02       927\n",
      "                   lunch routine       0.44      0.35      0.39      1526\n",
      "                     office work       0.86      0.12      0.21      1548\n",
      "\n",
      "                       micro avg       0.75      0.68      0.71     40949\n",
      "                       macro avg       0.52      0.26      0.30     40949\n",
      "                    weighted avg       0.71      0.68      0.66     40949\n",
      "                     samples avg       0.68      0.68      0.68     40949\n",
      "\n",
      "Accuracy: 0.6737\n",
      "F1: 0.3049\n"
     ]
    },
    {
     "name": "stderr",
     "output_type": "stream",
     "text": [
      "/home/kavin/anaconda3/envs/python3/lib/python3.8/site-packages/sklearn/metrics/_classification.py:1272: UndefinedMetricWarning: Precision and F-score are ill-defined and being set to 0.0 in samples with no predicted labels. Use `zero_division` parameter to control this behavior.\n",
      "  _warn_prf(average, modifier, msg_start, len(result))\n"
     ]
    },
    {
     "name": "stdout",
     "output_type": "stream",
     "text": [
      "Precision: 0.5158\n",
      "Recall: 0.2603\n",
      "BA: 0.0724\n"
     ]
    },
    {
     "name": "stderr",
     "output_type": "stream",
     "text": [
      "/home/kavin/anaconda3/envs/python3/lib/python3.8/site-packages/sklearn/metrics/_classification.py:1859: UserWarning: y_pred contains classes not in y_true\n",
      "  warnings.warn('y_pred contains classes not in y_true')\n",
      "/home/kavin/anaconda3/envs/python3/lib/python3.8/site-packages/sklearn/multiclass.py:74: UserWarning: Label not 8 is present in all training examples.\n",
      "  warnings.warn(\"Label %s is present in all training examples.\" %\n",
      "/home/kavin/anaconda3/envs/python3/lib/python3.8/site-packages/sklearn/multiclass.py:74: UserWarning: Label not 10 is present in all training examples.\n",
      "  warnings.warn(\"Label %s is present in all training examples.\" %\n"
     ]
    },
    {
     "name": "stdout",
     "output_type": "stream",
     "text": [
      "Fold : 5\n",
      "Simple :\n",
      "                    precision    recall  f1-score   support\n",
      "\n",
      "         unlabeled       0.81      0.56      0.66     11424\n",
      "      driving bike       0.95      0.77      0.85      1325\n",
      "     having dinner       0.01      0.00      0.00       864\n",
      "      having lunch       0.56      0.19      0.28       672\n",
      "  using the toilet       0.00      0.00      0.00         0\n",
      "   queuing in line       0.00      0.00      0.00         0\n",
      "           walking       0.56      0.39      0.46       250\n",
      "    walking freely       0.81      0.68      0.74      1250\n",
      "     washing hands       0.00      0.00      0.00         0\n",
      "           sitting       0.83      0.94      0.88     28423\n",
      "          standing       0.00      0.00      0.00         0\n",
      "   having a coffee       0.00      0.00      0.00         0\n",
      "             lying       0.00      0.00      0.00         0\n",
      "    using computer       0.00      0.00      0.00         0\n",
      "   desk activities       0.83      0.90      0.86     28423\n",
      "carrying something       0.61      0.25      0.36       250\n",
      "\n",
      "         micro avg       0.83      0.83      0.83     72881\n",
      "         macro avg       0.37      0.29      0.32     72881\n",
      "      weighted avg       0.82      0.83      0.82     72881\n",
      "       samples avg       0.79      0.78      0.78     72881\n",
      "\n",
      "Accuracy: 0.7500\n"
     ]
    },
    {
     "name": "stderr",
     "output_type": "stream",
     "text": [
      "/home/kavin/anaconda3/envs/python3/lib/python3.8/site-packages/sklearn/metrics/_classification.py:1272: UndefinedMetricWarning: Precision and F-score are ill-defined and being set to 0.0 in labels with no predicted samples. Use `zero_division` parameter to control this behavior.\n",
      "  _warn_prf(average, modifier, msg_start, len(result))\n",
      "/home/kavin/anaconda3/envs/python3/lib/python3.8/site-packages/sklearn/metrics/_classification.py:1272: UndefinedMetricWarning: Recall and F-score are ill-defined and being set to 0.0 in labels with no true samples. Use `zero_division` parameter to control this behavior.\n",
      "  _warn_prf(average, modifier, msg_start, len(result))\n",
      "/home/kavin/anaconda3/envs/python3/lib/python3.8/site-packages/sklearn/metrics/_classification.py:1272: UndefinedMetricWarning: Precision and F-score are ill-defined and being set to 0.0 in samples with no predicted labels. Use `zero_division` parameter to control this behavior.\n",
      "  _warn_prf(average, modifier, msg_start, len(result))\n",
      "/home/kavin/anaconda3/envs/python3/lib/python3.8/site-packages/sklearn/metrics/_classification.py:1514: UndefinedMetricWarning: F-score is ill-defined and being set to 0.0 in labels with no true nor predicted samples. Use `zero_division` parameter to control this behavior.\n",
      "  _warn_prf(\n",
      "/home/kavin/anaconda3/envs/python3/lib/python3.8/site-packages/sklearn/metrics/_classification.py:1272: UndefinedMetricWarning: Precision is ill-defined and being set to 0.0 in labels with no predicted samples. Use `zero_division` parameter to control this behavior.\n",
      "  _warn_prf(average, modifier, msg_start, len(result))\n"
     ]
    },
    {
     "name": "stdout",
     "output_type": "stream",
     "text": [
      "F1: 0.3187\n",
      "Precision: 0.3741\n"
     ]
    },
    {
     "name": "stderr",
     "output_type": "stream",
     "text": [
      "/home/kavin/anaconda3/envs/python3/lib/python3.8/site-packages/sklearn/metrics/_classification.py:1272: UndefinedMetricWarning: Recall is ill-defined and being set to 0.0 in labels with no true samples. Use `zero_division` parameter to control this behavior.\n",
      "  _warn_prf(average, modifier, msg_start, len(result))\n",
      "/home/kavin/anaconda3/envs/python3/lib/python3.8/site-packages/sklearn/metrics/_classification.py:1859: UserWarning: y_pred contains classes not in y_true\n",
      "  warnings.warn('y_pred contains classes not in y_true')\n"
     ]
    },
    {
     "name": "stdout",
     "output_type": "stream",
     "text": [
      "Recall: 0.2923\n",
      "BA: 0.4790\n",
      "Complex :\n",
      "                                  precision    recall  f1-score   support\n",
      "\n",
      "                       unlabeled       0.46      0.22      0.30      7316\n",
      "                     driving car       0.00      0.00      0.00         0\n",
      "                personal hygiene       0.89      0.17      0.28       391\n",
      "        sitting  having a coffee       0.00      0.00      0.00         0\n",
      "        sitting  desk activities       0.83      0.90      0.86     28423\n",
      "walking while carrying something       0.61      0.25      0.36       250\n",
      "           picking up mensa food       0.58      0.07      0.13       153\n",
      "           lying  using computer       0.00      0.00      0.00         0\n",
      "        discussing at whiteboard       0.00      0.00      0.00         0\n",
      "               dinner activities       0.19      0.02      0.03      1455\n",
      "                       commuting       0.95      0.61      0.74      2026\n",
      "                   lunch routine       0.67      0.30      0.41      2249\n",
      "                     office work       0.22      0.03      0.05      1945\n",
      "\n",
      "                       micro avg       0.77      0.66      0.71     44208\n",
      "                       macro avg       0.42      0.20      0.24     44208\n",
      "                    weighted avg       0.72      0.66      0.67     44208\n",
      "                     samples avg       0.65      0.66      0.66     44208\n",
      "\n",
      "Accuracy: 0.6480\n"
     ]
    },
    {
     "name": "stderr",
     "output_type": "stream",
     "text": [
      "/home/kavin/anaconda3/envs/python3/lib/python3.8/site-packages/sklearn/metrics/_classification.py:1272: UndefinedMetricWarning: Precision and F-score are ill-defined and being set to 0.0 in labels with no predicted samples. Use `zero_division` parameter to control this behavior.\n",
      "  _warn_prf(average, modifier, msg_start, len(result))\n",
      "/home/kavin/anaconda3/envs/python3/lib/python3.8/site-packages/sklearn/metrics/_classification.py:1272: UndefinedMetricWarning: Recall and F-score are ill-defined and being set to 0.0 in labels with no true samples. Use `zero_division` parameter to control this behavior.\n",
      "  _warn_prf(average, modifier, msg_start, len(result))\n",
      "/home/kavin/anaconda3/envs/python3/lib/python3.8/site-packages/sklearn/metrics/_classification.py:1272: UndefinedMetricWarning: Precision and F-score are ill-defined and being set to 0.0 in samples with no predicted labels. Use `zero_division` parameter to control this behavior.\n",
      "  _warn_prf(average, modifier, msg_start, len(result))\n",
      "/home/kavin/anaconda3/envs/python3/lib/python3.8/site-packages/sklearn/metrics/_classification.py:1514: UndefinedMetricWarning: F-score is ill-defined and being set to 0.0 in labels with no true nor predicted samples. Use `zero_division` parameter to control this behavior.\n",
      "  _warn_prf(\n"
     ]
    },
    {
     "name": "stdout",
     "output_type": "stream",
     "text": [
      "F1: 0.2429\n",
      "Precision: 0.4163\n",
      "Recall: 0.1964\n",
      "BA: 0.0789\n"
     ]
    },
    {
     "name": "stderr",
     "output_type": "stream",
     "text": [
      "/home/kavin/anaconda3/envs/python3/lib/python3.8/site-packages/sklearn/metrics/_classification.py:1272: UndefinedMetricWarning: Precision is ill-defined and being set to 0.0 in labels with no predicted samples. Use `zero_division` parameter to control this behavior.\n",
      "  _warn_prf(average, modifier, msg_start, len(result))\n",
      "/home/kavin/anaconda3/envs/python3/lib/python3.8/site-packages/sklearn/metrics/_classification.py:1272: UndefinedMetricWarning: Recall is ill-defined and being set to 0.0 in labels with no true samples. Use `zero_division` parameter to control this behavior.\n",
      "  _warn_prf(average, modifier, msg_start, len(result))\n",
      "/home/kavin/anaconda3/envs/python3/lib/python3.8/site-packages/sklearn/metrics/_classification.py:1859: UserWarning: y_pred contains classes not in y_true\n",
      "  warnings.warn('y_pred contains classes not in y_true')\n",
      "/home/kavin/anaconda3/envs/python3/lib/python3.8/site-packages/sklearn/multiclass.py:74: UserWarning: Label not 8 is present in all training examples.\n",
      "  warnings.warn(\"Label %s is present in all training examples.\" %\n",
      "/home/kavin/anaconda3/envs/python3/lib/python3.8/site-packages/sklearn/multiclass.py:74: UserWarning: Label not 10 is present in all training examples.\n",
      "  warnings.warn(\"Label %s is present in all training examples.\" %\n"
     ]
    },
    {
     "name": "stdout",
     "output_type": "stream",
     "text": [
      "Fold : 6\n",
      "Simple :\n",
      "                    precision    recall  f1-score   support\n",
      "\n",
      "         unlabeled       0.67      0.55      0.61     11124\n",
      "      driving bike       0.00      0.00      0.00         0\n",
      "     having dinner       0.06      0.00      0.00      1568\n",
      "      having lunch       0.13      0.29      0.18       281\n",
      "  using the toilet       0.00      0.00      0.00       370\n",
      "   queuing in line       0.06      0.00      0.01       372\n",
      "           walking       0.94      0.71      0.81       630\n",
      "    walking freely       0.82      0.76      0.79       670\n",
      "     washing hands       0.00      0.00      0.00         0\n",
      "           sitting       0.80      0.89      0.84     26226\n",
      "          standing       0.00      0.00      0.00         0\n",
      "   having a coffee       0.00      0.00      0.00       220\n",
      "             lying       0.00      0.00      0.00         0\n",
      "    using computer       0.00      0.00      0.00         0\n",
      "   desk activities       0.79      0.88      0.84     24903\n",
      "carrying something       0.10      0.08      0.09       106\n",
      "\n",
      "         micro avg       0.77      0.79      0.78     66470\n",
      "         macro avg       0.27      0.26      0.26     66470\n",
      "      weighted avg       0.75      0.79      0.76     66470\n",
      "       samples avg       0.73      0.74      0.73     66470\n",
      "\n",
      "Accuracy: 0.6982\n"
     ]
    },
    {
     "name": "stderr",
     "output_type": "stream",
     "text": [
      "/home/kavin/anaconda3/envs/python3/lib/python3.8/site-packages/sklearn/metrics/_classification.py:1272: UndefinedMetricWarning: Precision and F-score are ill-defined and being set to 0.0 in labels with no predicted samples. Use `zero_division` parameter to control this behavior.\n",
      "  _warn_prf(average, modifier, msg_start, len(result))\n",
      "/home/kavin/anaconda3/envs/python3/lib/python3.8/site-packages/sklearn/metrics/_classification.py:1272: UndefinedMetricWarning: Recall and F-score are ill-defined and being set to 0.0 in labels with no true samples. Use `zero_division` parameter to control this behavior.\n",
      "  _warn_prf(average, modifier, msg_start, len(result))\n",
      "/home/kavin/anaconda3/envs/python3/lib/python3.8/site-packages/sklearn/metrics/_classification.py:1272: UndefinedMetricWarning: Precision and F-score are ill-defined and being set to 0.0 in samples with no predicted labels. Use `zero_division` parameter to control this behavior.\n",
      "  _warn_prf(average, modifier, msg_start, len(result))\n",
      "/home/kavin/anaconda3/envs/python3/lib/python3.8/site-packages/sklearn/metrics/_classification.py:1514: UndefinedMetricWarning: F-score is ill-defined and being set to 0.0 in labels with no true nor predicted samples. Use `zero_division` parameter to control this behavior.\n",
      "  _warn_prf(\n",
      "/home/kavin/anaconda3/envs/python3/lib/python3.8/site-packages/sklearn/metrics/_classification.py:1272: UndefinedMetricWarning: Precision is ill-defined and being set to 0.0 in labels with no predicted samples. Use `zero_division` parameter to control this behavior.\n",
      "  _warn_prf(average, modifier, msg_start, len(result))\n",
      "/home/kavin/anaconda3/envs/python3/lib/python3.8/site-packages/sklearn/metrics/_classification.py:1272: UndefinedMetricWarning: Recall is ill-defined and being set to 0.0 in labels with no true samples. Use `zero_division` parameter to control this behavior.\n",
      "  _warn_prf(average, modifier, msg_start, len(result))\n"
     ]
    },
    {
     "name": "stdout",
     "output_type": "stream",
     "text": [
      "F1: 0.2597\n",
      "Precision: 0.2728\n",
      "Recall: 0.2607\n"
     ]
    },
    {
     "name": "stderr",
     "output_type": "stream",
     "text": [
      "/home/kavin/anaconda3/envs/python3/lib/python3.8/site-packages/sklearn/metrics/_classification.py:1859: UserWarning: y_pred contains classes not in y_true\n",
      "  warnings.warn('y_pred contains classes not in y_true')\n"
     ]
    },
    {
     "name": "stdout",
     "output_type": "stream",
     "text": [
      "BA: 0.3973\n",
      "Complex :\n",
      "                                  precision    recall  f1-score   support\n",
      "\n",
      "                       unlabeled       0.35      0.23      0.28      8386\n",
      "                     driving car       0.97      0.79      0.87      1103\n",
      "                personal hygiene       0.00      0.00      0.00         0\n",
      "        sitting  having a coffee       0.00      0.00      0.00       220\n",
      "        sitting  desk activities       0.79      0.88      0.84     24903\n",
      "walking while carrying something       0.10      0.08      0.09       106\n",
      "           picking up mensa food       0.44      0.01      0.03       311\n",
      "           lying  using computer       0.00      0.00      0.00         0\n",
      "        discussing at whiteboard       0.00      0.00      0.00         0\n",
      "               dinner activities       0.08      0.00      0.01      1905\n",
      "                       commuting       0.60      0.09      0.16       917\n",
      "                   lunch routine       0.32      0.23      0.27      1892\n",
      "                     office work       0.17      0.03      0.05      1498\n",
      "\n",
      "                       micro avg       0.70      0.62      0.66     41241\n",
      "                       macro avg       0.30      0.18      0.20     41241\n",
      "                    weighted avg       0.62      0.62      0.60     41241\n",
      "                     samples avg       0.61      0.62      0.61     41241\n",
      "\n",
      "Accuracy: 0.6065\n",
      "F1: 0.1993\n"
     ]
    },
    {
     "name": "stderr",
     "output_type": "stream",
     "text": [
      "/home/kavin/anaconda3/envs/python3/lib/python3.8/site-packages/sklearn/metrics/_classification.py:1272: UndefinedMetricWarning: Recall and F-score are ill-defined and being set to 0.0 in labels with no true samples. Use `zero_division` parameter to control this behavior.\n",
      "  _warn_prf(average, modifier, msg_start, len(result))\n",
      "/home/kavin/anaconda3/envs/python3/lib/python3.8/site-packages/sklearn/metrics/_classification.py:1272: UndefinedMetricWarning: Precision and F-score are ill-defined and being set to 0.0 in samples with no predicted labels. Use `zero_division` parameter to control this behavior.\n",
      "  _warn_prf(average, modifier, msg_start, len(result))\n"
     ]
    },
    {
     "name": "stdout",
     "output_type": "stream",
     "text": [
      "Precision: 0.2956\n",
      "Recall: 0.1808\n",
      "BA: 0.0708\n",
      "Simple Acc: 0.7204664864647036\n",
      "Simple F1: 0.3119626340044849\n",
      "Simple Prec: 0.37721983283479915\n",
      "Simple Rec: 0.28984713293217074\n",
      "Simple BA: 0.4122453389320291\n",
      "Complex Acc: 0.6055037892426655\n",
      "Complex F1: 0.23007331478791762\n",
      "Complex Prec: 0.35970858414919676\n",
      "Complex Rec: 0.20117753366556482\n",
      "Complex BA: 0.08567633363899459\n"
     ]
    },
    {
     "name": "stderr",
     "output_type": "stream",
     "text": [
      "/home/kavin/anaconda3/envs/python3/lib/python3.8/site-packages/sklearn/metrics/_classification.py:1272: UndefinedMetricWarning: Recall is ill-defined and being set to 0.0 in labels with no true samples. Use `zero_division` parameter to control this behavior.\n",
      "  _warn_prf(average, modifier, msg_start, len(result))\n",
      "/home/kavin/anaconda3/envs/python3/lib/python3.8/site-packages/sklearn/metrics/_classification.py:1859: UserWarning: y_pred contains classes not in y_true\n",
      "  warnings.warn('y_pred contains classes not in y_true')\n"
     ]
    }
   ],
   "source": [
    "sa_acc_list, sa_f1_list, sa_prec_list, sa_rec_list, sa_ba_list, ca_acc_list, ca_f1_list, ca_prec_list, ca_rec_list, ca_ba_list = [], [], [], [], [], [], [], [], [], []\n",
    "\n",
    "for fold_idx in range(7):\n",
    "    \n",
    "    x_train, y_simple_train, y_complex_train, x_test, y_simple_test, y_complex_test = [], [], [], [], [], []\n",
    "\n",
    "    test_df = data_df[data_df.day == test_days_list[fold_idx]]\n",
    "\n",
    "    train_df = data_df[data_df.day != test_days_list[fold_idx]]\n",
    "\n",
    "    x_train = train_df.iloc[:, [0, 1, 2, 3, 4, 5, 6, 7, 8, 9, 10, 11]].values\n",
    "    y_simple_train = train_df.iloc[:, 13:29].values\n",
    "    y_complex_train = train_df.iloc[:, 29:42].values\n",
    "    x_test = test_df.iloc[:, [0, 1, 2, 3, 4, 5, 6, 7, 8, 9, 10, 11]].values\n",
    "    y_simple_test = test_df.iloc[:, 13:29].values\n",
    "    y_complex_test = test_df.iloc[:, 29:42].values\n",
    "    \n",
    "    \n",
    "    num_classes = len(new_simple_act)\n",
    "    clf = OneVsRestClassifier(XGBClassifier(n_jobs=-1, max_depth=4))\n",
    "    clf.fit(x_train, y_simple_train)\n",
    "    predictions = clf.predict(x_test)\n",
    "    print(\"Fold : {}\".format(fold_idx))\n",
    "    print(\"Simple :\")\n",
    "    print(classification_report(y_simple_test, predictions, target_names = new_simple_act))\n",
    "    accuracy = accuracy_score(y_simple_test, predictions)\n",
    "    print(\"Accuracy: %.4f\" % (accuracy))\n",
    "    sa_acc_list.append(accuracy)\n",
    "    f1 = f1_score(y_simple_test, predictions, average='macro')\n",
    "    print(\"F1: %.4f\" % (f1))\n",
    "    sa_f1_list.append(f1)\n",
    "    prec = precision_score(y_simple_test, predictions, average='macro')\n",
    "    print(\"Precision: %.4f\" % (prec))\n",
    "    sa_prec_list.append(prec)\n",
    "    recall = recall_score(y_simple_test, predictions, average='macro')\n",
    "    print(\"Recall: %.4f\" % (recall))\n",
    "    sa_rec_list.append(recall)\n",
    "    ba = balanced_accuracy_score(np.argmax(y_simple_test, axis = 1), np.argmax(predictions, axis = 1))\n",
    "    print(\"BA: %.4f\" % (ba))\n",
    "    sa_ba_list.append(ba)\n",
    "    \n",
    "    num_classes = len(new_complex_act)\n",
    "    clf = OneVsRestClassifier(XGBClassifier(n_jobs=-1, max_depth=4))\n",
    "    clf.fit(x_train, y_complex_train)\n",
    "    predictions = clf.predict(x_test)\n",
    "    print(\"Complex :\")\n",
    "    print(classification_report(y_complex_test, predictions, target_names = new_complex_act))\n",
    "    accuracy = accuracy_score(y_complex_test, predictions)\n",
    "    print(\"Accuracy: %.4f\" % (accuracy))\n",
    "    ca_acc_list.append(accuracy)\n",
    "    f1 = f1_score(y_complex_test, predictions, average='macro')\n",
    "    print(\"F1: %.4f\" % (f1))\n",
    "    ca_f1_list.append(f1)\n",
    "    prec = precision_score(y_complex_test, predictions, average='macro')\n",
    "    print(\"Precision: %.4f\" % (prec))\n",
    "    ca_prec_list.append(prec)\n",
    "    recall = recall_score(y_complex_test, predictions, average='macro')\n",
    "    print(\"Recall: %.4f\" % (recall ))\n",
    "    ca_rec_list.append(recall)\n",
    "    ba = balanced_accuracy_score(np.argmax(y_simple_test, axis = 1), np.argmax(predictions, axis = 1))\n",
    "    print(\"BA: %.4f\" % (ba))\n",
    "    ca_ba_list.append(ba)\n",
    "print(\"Simple Acc: {}\".format(np.mean(sa_acc_list)))\n",
    "print(\"Simple F1: {}\".format(np.mean(sa_f1_list)))\n",
    "print(\"Simple Prec: {}\".format(np.mean(sa_prec_list)))\n",
    "print(\"Simple Rec: {}\".format(np.mean(sa_rec_list)))\n",
    "print(\"Simple BA: {}\".format(np.mean(sa_ba_list)))\n",
    "\n",
    "print(\"Complex Acc: {}\".format(np.mean(ca_acc_list)))\n",
    "print(\"Complex F1: {}\".format(np.mean(ca_f1_list)))\n",
    "print(\"Complex Prec: {}\".format(np.mean(ca_prec_list)))\n",
    "print(\"Complex Rec: {}\".format(np.mean(ca_rec_list)))\n",
    "print(\"Complex BA: {}\".format(np.mean(ca_ba_list)))"
   ]
  },
  {
   "cell_type": "code",
   "execution_count": 23,
   "metadata": {},
   "outputs": [
    {
     "data": {
      "text/plain": [
       "0.3531547386464552"
      ]
     },
     "execution_count": 23,
     "metadata": {},
     "output_type": "execute_result"
    }
   ],
   "source": [
    "balanced_accuracy_score(np.argmax(y_simple_test, axis = 1), np.argmax(predictions, axis = 1))"
   ]
  },
  {
   "cell_type": "code",
   "execution_count": 11,
   "metadata": {},
   "outputs": [
    {
     "data": {
      "text/plain": [
       "array([[1, 0, 0, ..., 0, 0, 0],\n",
       "       [0, 0, 0, ..., 0, 0, 0],\n",
       "       [0, 0, 0, ..., 0, 0, 0],\n",
       "       ...,\n",
       "       [1, 0, 0, ..., 0, 0, 0],\n",
       "       [1, 0, 0, ..., 0, 0, 1],\n",
       "       [1, 0, 0, ..., 0, 0, 0]])"
      ]
     },
     "execution_count": 11,
     "metadata": {},
     "output_type": "execute_result"
    }
   ],
   "source": [
    "\"predictions"
   ]
  },
  {
   "cell_type": "code",
   "execution_count": 32,
   "metadata": {},
   "outputs": [],
   "source": [
    "data_df = pd.read_csv(\"/media/kavin/silo/ghost-storage/Research/WASH/complex_activities/ADL-TM-master/data/ubicomp/LDA_T20s40/processed.csv\")\n",
    "\n",
    "data_df.sort_values(by = ['timestamp'], inplace = True)\n",
    "data_df.timestamp = pd.to_datetime(data_df.timestamp,unit='ns',  origin = 'unix')\n",
    "data_df.set_index(data_df.timestamp, drop = False, inplace= True)\n",
    "data_df = data_df[~data_df.index.duplicated(keep='first')]"
   ]
  },
  {
   "cell_type": "code",
   "execution_count": 35,
   "metadata": {},
   "outputs": [
    {
     "data": {
      "text/plain": [
       "'topic'"
      ]
     },
     "execution_count": 35,
     "metadata": {},
     "output_type": "execute_result"
    }
   ],
   "source": [
    "data_df.columns[47]"
   ]
  },
  {
   "cell_type": "code",
   "execution_count": 36,
   "metadata": {},
   "outputs": [
    {
     "name": "stderr",
     "output_type": "stream",
     "text": [
      "/home/kavin/anaconda3/envs/python3/lib/python3.8/site-packages/sklearn/multiclass.py:74: UserWarning: Label not 8 is present in all training examples.\n",
      "  warnings.warn(\"Label %s is present in all training examples.\" %\n",
      "/home/kavin/anaconda3/envs/python3/lib/python3.8/site-packages/sklearn/multiclass.py:74: UserWarning: Label not 10 is present in all training examples.\n",
      "  warnings.warn(\"Label %s is present in all training examples.\" %\n"
     ]
    },
    {
     "name": "stdout",
     "output_type": "stream",
     "text": [
      "Fold : 0\n",
      "Simple :\n",
      "                    precision    recall  f1-score   support\n",
      "\n",
      "         unlabeled       0.90      0.87      0.88     17579\n",
      "      driving bike       0.00      0.00      0.00         0\n",
      "     having dinner       0.14      0.14      0.14      1657\n",
      "      having lunch       0.44      0.28      0.34       746\n",
      "  using the toilet       0.17      0.01      0.01       129\n",
      "   queuing in line       0.00      0.00      0.00       135\n",
      "           walking       0.34      0.11      0.17       663\n",
      "    walking freely       0.66      0.80      0.73       959\n",
      "     washing hands       0.00      0.00      0.00         0\n",
      "           sitting       0.87      0.67      0.75     21189\n",
      "          standing       0.00      0.00      0.00         0\n",
      "   having a coffee       0.00      0.00      0.00       307\n",
      "             lying       0.00      0.00      0.00         0\n",
      "    using computer       0.00      0.00      0.00         0\n",
      "   desk activities       0.88      0.63      0.73     19548\n",
      "carrying something       0.10      0.03      0.05       446\n",
      "\n",
      "         micro avg       0.84      0.68      0.75     63358\n",
      "         macro avg       0.28      0.22      0.24     63358\n",
      "      weighted avg       0.83      0.68      0.74     63358\n",
      "       samples avg       0.73      0.70      0.71     63358\n",
      "\n",
      "Accuracy: 0.6514\n"
     ]
    },
    {
     "name": "stderr",
     "output_type": "stream",
     "text": [
      "/home/kavin/anaconda3/envs/python3/lib/python3.8/site-packages/sklearn/metrics/_classification.py:1272: UndefinedMetricWarning: Precision and F-score are ill-defined and being set to 0.0 in labels with no predicted samples. Use `zero_division` parameter to control this behavior.\n",
      "  _warn_prf(average, modifier, msg_start, len(result))\n",
      "/home/kavin/anaconda3/envs/python3/lib/python3.8/site-packages/sklearn/metrics/_classification.py:1272: UndefinedMetricWarning: Recall and F-score are ill-defined and being set to 0.0 in labels with no true samples. Use `zero_division` parameter to control this behavior.\n",
      "  _warn_prf(average, modifier, msg_start, len(result))\n",
      "/home/kavin/anaconda3/envs/python3/lib/python3.8/site-packages/sklearn/metrics/_classification.py:1272: UndefinedMetricWarning: Precision and F-score are ill-defined and being set to 0.0 in samples with no predicted labels. Use `zero_division` parameter to control this behavior.\n",
      "  _warn_prf(average, modifier, msg_start, len(result))\n",
      "/home/kavin/anaconda3/envs/python3/lib/python3.8/site-packages/sklearn/metrics/_classification.py:1514: UndefinedMetricWarning: F-score is ill-defined and being set to 0.0 in labels with no true nor predicted samples. Use `zero_division` parameter to control this behavior.\n",
      "  _warn_prf(\n",
      "/home/kavin/anaconda3/envs/python3/lib/python3.8/site-packages/sklearn/metrics/_classification.py:1272: UndefinedMetricWarning: Precision is ill-defined and being set to 0.0 in labels with no predicted samples. Use `zero_division` parameter to control this behavior.\n",
      "  _warn_prf(average, modifier, msg_start, len(result))\n",
      "/home/kavin/anaconda3/envs/python3/lib/python3.8/site-packages/sklearn/metrics/_classification.py:1272: UndefinedMetricWarning: Recall is ill-defined and being set to 0.0 in labels with no true samples. Use `zero_division` parameter to control this behavior.\n",
      "  _warn_prf(average, modifier, msg_start, len(result))\n"
     ]
    },
    {
     "name": "stdout",
     "output_type": "stream",
     "text": [
      "F1: 0.2376\n",
      "Precision: 0.2805\n",
      "Recall: 0.2208\n"
     ]
    },
    {
     "name": "stderr",
     "output_type": "stream",
     "text": [
      "/home/kavin/anaconda3/envs/python3/lib/python3.8/site-packages/sklearn/metrics/_classification.py:1859: UserWarning: y_pred contains classes not in y_true\n",
      "  warnings.warn('y_pred contains classes not in y_true')\n"
     ]
    },
    {
     "name": "stdout",
     "output_type": "stream",
     "text": [
      "BA: 0.3532\n",
      "Complex :\n",
      "                                  precision    recall  f1-score   support\n",
      "\n",
      "                       unlabeled       0.40      0.36      0.38     11321\n",
      "                     driving car       0.76      0.69      0.72      1334\n",
      "                personal hygiene       0.16      0.15      0.16       115\n",
      "        sitting  having a coffee       0.00      0.00      0.00       307\n",
      "        sitting  desk activities       0.88      0.63      0.73     19548\n",
      "walking while carrying something       0.10      0.03      0.05       446\n",
      "           picking up mensa food       0.11      0.06      0.08       125\n",
      "           lying  using computer       0.00      0.00      0.00         0\n",
      "        discussing at whiteboard       0.68      0.08      0.14      2136\n",
      "               dinner activities       0.03      0.01      0.01      1607\n",
      "                       commuting       0.06      0.01      0.02      1681\n",
      "                   lunch routine       0.44      0.29      0.35      2134\n",
      "                     office work       0.27      0.07      0.11      2303\n",
      "\n",
      "                       micro avg       0.64      0.42      0.51     43057\n",
      "                       macro avg       0.30      0.18      0.21     43057\n",
      "                    weighted avg       0.60      0.42      0.49     43057\n",
      "                     samples avg       0.42      0.42      0.42     43057\n",
      "\n",
      "Accuracy: 0.4099\n"
     ]
    },
    {
     "name": "stderr",
     "output_type": "stream",
     "text": [
      "/home/kavin/anaconda3/envs/python3/lib/python3.8/site-packages/sklearn/metrics/_classification.py:1272: UndefinedMetricWarning: Precision and F-score are ill-defined and being set to 0.0 in labels with no predicted samples. Use `zero_division` parameter to control this behavior.\n",
      "  _warn_prf(average, modifier, msg_start, len(result))\n",
      "/home/kavin/anaconda3/envs/python3/lib/python3.8/site-packages/sklearn/metrics/_classification.py:1272: UndefinedMetricWarning: Recall and F-score are ill-defined and being set to 0.0 in labels with no true samples. Use `zero_division` parameter to control this behavior.\n",
      "  _warn_prf(average, modifier, msg_start, len(result))\n",
      "/home/kavin/anaconda3/envs/python3/lib/python3.8/site-packages/sklearn/metrics/_classification.py:1272: UndefinedMetricWarning: Precision and F-score are ill-defined and being set to 0.0 in samples with no predicted labels. Use `zero_division` parameter to control this behavior.\n",
      "  _warn_prf(average, modifier, msg_start, len(result))\n",
      "/home/kavin/anaconda3/envs/python3/lib/python3.8/site-packages/sklearn/metrics/_classification.py:1514: UndefinedMetricWarning: F-score is ill-defined and being set to 0.0 in labels with no true nor predicted samples. Use `zero_division` parameter to control this behavior.\n",
      "  _warn_prf(\n"
     ]
    },
    {
     "name": "stdout",
     "output_type": "stream",
     "text": [
      "F1: 0.2116\n",
      "Precision: 0.3000\n",
      "Recall: 0.1824\n",
      "BA: 0.1071\n"
     ]
    },
    {
     "name": "stderr",
     "output_type": "stream",
     "text": [
      "/home/kavin/anaconda3/envs/python3/lib/python3.8/site-packages/sklearn/metrics/_classification.py:1272: UndefinedMetricWarning: Precision is ill-defined and being set to 0.0 in labels with no predicted samples. Use `zero_division` parameter to control this behavior.\n",
      "  _warn_prf(average, modifier, msg_start, len(result))\n",
      "/home/kavin/anaconda3/envs/python3/lib/python3.8/site-packages/sklearn/metrics/_classification.py:1272: UndefinedMetricWarning: Recall is ill-defined and being set to 0.0 in labels with no true samples. Use `zero_division` parameter to control this behavior.\n",
      "  _warn_prf(average, modifier, msg_start, len(result))\n",
      "/home/kavin/anaconda3/envs/python3/lib/python3.8/site-packages/sklearn/metrics/_classification.py:1859: UserWarning: y_pred contains classes not in y_true\n",
      "  warnings.warn('y_pred contains classes not in y_true')\n",
      "/home/kavin/anaconda3/envs/python3/lib/python3.8/site-packages/sklearn/multiclass.py:74: UserWarning: Label not 8 is present in all training examples.\n",
      "  warnings.warn(\"Label %s is present in all training examples.\" %\n",
      "/home/kavin/anaconda3/envs/python3/lib/python3.8/site-packages/sklearn/multiclass.py:74: UserWarning: Label not 10 is present in all training examples.\n",
      "  warnings.warn(\"Label %s is present in all training examples.\" %\n"
     ]
    },
    {
     "name": "stdout",
     "output_type": "stream",
     "text": [
      "Fold : 1\n",
      "Simple :\n",
      "                    precision    recall  f1-score   support\n",
      "\n",
      "         unlabeled       0.24      0.51      0.33      5318\n",
      "      driving bike       0.00      0.00      0.00         0\n",
      "     having dinner       0.90      0.45      0.60       896\n",
      "      having lunch       0.96      0.40      0.57       776\n",
      "  using the toilet       0.00      0.00      0.00         0\n",
      "   queuing in line       0.00      0.00      0.00         0\n",
      "           walking       0.95      0.56      0.70       616\n",
      "    walking freely       0.87      0.73      0.79       633\n",
      "     washing hands       0.00      0.00      0.00         0\n",
      "           sitting       0.89      0.87      0.88     26000\n",
      "          standing       0.00      0.00      0.00         0\n",
      "   having a coffee       0.00      0.00      0.00         0\n",
      "             lying       0.00      0.00      0.00      8930\n",
      "    using computer       0.00      0.00      0.00      8930\n",
      "   desk activities       0.93      0.84      0.88     24438\n",
      "carrying something       0.79      0.06      0.11       330\n",
      "\n",
      "         micro avg       0.78      0.62      0.69     76867\n",
      "         macro avg       0.41      0.28      0.30     76867\n",
      "      weighted avg       0.65      0.62      0.63     76867\n",
      "       samples avg       0.61      0.61      0.61     76867\n",
      "\n",
      "Accuracy: 0.5677\n"
     ]
    },
    {
     "name": "stderr",
     "output_type": "stream",
     "text": [
      "/home/kavin/anaconda3/envs/python3/lib/python3.8/site-packages/sklearn/metrics/_classification.py:1272: UndefinedMetricWarning: Precision and F-score are ill-defined and being set to 0.0 in labels with no predicted samples. Use `zero_division` parameter to control this behavior.\n",
      "  _warn_prf(average, modifier, msg_start, len(result))\n",
      "/home/kavin/anaconda3/envs/python3/lib/python3.8/site-packages/sklearn/metrics/_classification.py:1272: UndefinedMetricWarning: Recall and F-score are ill-defined and being set to 0.0 in labels with no true samples. Use `zero_division` parameter to control this behavior.\n",
      "  _warn_prf(average, modifier, msg_start, len(result))\n",
      "/home/kavin/anaconda3/envs/python3/lib/python3.8/site-packages/sklearn/metrics/_classification.py:1272: UndefinedMetricWarning: Precision and F-score are ill-defined and being set to 0.0 in samples with no predicted labels. Use `zero_division` parameter to control this behavior.\n",
      "  _warn_prf(average, modifier, msg_start, len(result))\n",
      "/home/kavin/anaconda3/envs/python3/lib/python3.8/site-packages/sklearn/metrics/_classification.py:1514: UndefinedMetricWarning: F-score is ill-defined and being set to 0.0 in labels with no true nor predicted samples. Use `zero_division` parameter to control this behavior.\n",
      "  _warn_prf(\n",
      "/home/kavin/anaconda3/envs/python3/lib/python3.8/site-packages/sklearn/metrics/_classification.py:1272: UndefinedMetricWarning: Precision is ill-defined and being set to 0.0 in labels with no predicted samples. Use `zero_division` parameter to control this behavior.\n",
      "  _warn_prf(average, modifier, msg_start, len(result))\n",
      "/home/kavin/anaconda3/envs/python3/lib/python3.8/site-packages/sklearn/metrics/_classification.py:1272: UndefinedMetricWarning: Recall is ill-defined and being set to 0.0 in labels with no true samples. Use `zero_division` parameter to control this behavior.\n",
      "  _warn_prf(average, modifier, msg_start, len(result))\n"
     ]
    },
    {
     "name": "stdout",
     "output_type": "stream",
     "text": [
      "F1: 0.3039\n",
      "Precision: 0.4082\n",
      "Recall: 0.2763\n"
     ]
    },
    {
     "name": "stderr",
     "output_type": "stream",
     "text": [
      "/home/kavin/anaconda3/envs/python3/lib/python3.8/site-packages/sklearn/metrics/_classification.py:1859: UserWarning: y_pred contains classes not in y_true\n",
      "  warnings.warn('y_pred contains classes not in y_true')\n"
     ]
    },
    {
     "name": "stdout",
     "output_type": "stream",
     "text": [
      "BA: 0.4557\n",
      "Complex :\n",
      "                                  precision    recall  f1-score   support\n",
      "\n",
      "                       unlabeled       0.07      0.39      0.12      1976\n",
      "                     driving car       0.52      0.75      0.61      1562\n",
      "                personal hygiene       0.00      0.00      0.00         0\n",
      "        sitting  having a coffee       0.00      0.00      0.00         0\n",
      "        sitting  desk activities       0.93      0.84      0.88     24438\n",
      "walking while carrying something       0.79      0.06      0.11       330\n",
      "           picking up mensa food       0.87      0.08      0.15       161\n",
      "           lying  using computer       0.00      0.00      0.00      8930\n",
      "        discussing at whiteboard       0.00      0.00      0.00         0\n",
      "               dinner activities       0.40      0.11      0.17      1121\n",
      "                       commuting       0.50      0.27      0.35       801\n",
      "                   lunch routine       0.92      0.23      0.37      2069\n",
      "                     office work       0.10      0.02      0.04      1781\n",
      "\n",
      "                       micro avg       0.63      0.54      0.58     43169\n",
      "                       macro avg       0.39      0.21      0.22     43169\n",
      "                    weighted avg       0.63      0.54      0.56     43169\n",
      "                     samples avg       0.53      0.54      0.54     43169\n",
      "\n",
      "Accuracy: 0.5292\n"
     ]
    },
    {
     "name": "stderr",
     "output_type": "stream",
     "text": [
      "/home/kavin/anaconda3/envs/python3/lib/python3.8/site-packages/sklearn/metrics/_classification.py:1272: UndefinedMetricWarning: Precision and F-score are ill-defined and being set to 0.0 in labels with no predicted samples. Use `zero_division` parameter to control this behavior.\n",
      "  _warn_prf(average, modifier, msg_start, len(result))\n",
      "/home/kavin/anaconda3/envs/python3/lib/python3.8/site-packages/sklearn/metrics/_classification.py:1272: UndefinedMetricWarning: Recall and F-score are ill-defined and being set to 0.0 in labels with no true samples. Use `zero_division` parameter to control this behavior.\n",
      "  _warn_prf(average, modifier, msg_start, len(result))\n",
      "/home/kavin/anaconda3/envs/python3/lib/python3.8/site-packages/sklearn/metrics/_classification.py:1272: UndefinedMetricWarning: Precision and F-score are ill-defined and being set to 0.0 in samples with no predicted labels. Use `zero_division` parameter to control this behavior.\n",
      "  _warn_prf(average, modifier, msg_start, len(result))\n"
     ]
    },
    {
     "name": "stdout",
     "output_type": "stream",
     "text": [
      "F1: 0.2152\n",
      "Precision: 0.3921\n",
      "Recall: 0.2116\n",
      "BA: 0.0924\n"
     ]
    },
    {
     "name": "stderr",
     "output_type": "stream",
     "text": [
      "/home/kavin/anaconda3/envs/python3/lib/python3.8/site-packages/sklearn/metrics/_classification.py:1272: UndefinedMetricWarning: Precision is ill-defined and being set to 0.0 in labels with no predicted samples. Use `zero_division` parameter to control this behavior.\n",
      "  _warn_prf(average, modifier, msg_start, len(result))\n",
      "/home/kavin/anaconda3/envs/python3/lib/python3.8/site-packages/sklearn/metrics/_classification.py:1272: UndefinedMetricWarning: Recall is ill-defined and being set to 0.0 in labels with no true samples. Use `zero_division` parameter to control this behavior.\n",
      "  _warn_prf(average, modifier, msg_start, len(result))\n",
      "/home/kavin/anaconda3/envs/python3/lib/python3.8/site-packages/sklearn/metrics/_classification.py:1859: UserWarning: y_pred contains classes not in y_true\n",
      "  warnings.warn('y_pred contains classes not in y_true')\n",
      "/home/kavin/anaconda3/envs/python3/lib/python3.8/site-packages/sklearn/multiclass.py:74: UserWarning: Label not 8 is present in all training examples.\n",
      "  warnings.warn(\"Label %s is present in all training examples.\" %\n",
      "/home/kavin/anaconda3/envs/python3/lib/python3.8/site-packages/sklearn/multiclass.py:74: UserWarning: Label not 10 is present in all training examples.\n",
      "  warnings.warn(\"Label %s is present in all training examples.\" %\n"
     ]
    },
    {
     "name": "stdout",
     "output_type": "stream",
     "text": [
      "Fold : 2\n",
      "Simple :\n",
      "                    precision    recall  f1-score   support\n",
      "\n",
      "         unlabeled       0.85      0.74      0.79     10888\n",
      "      driving bike       0.93      0.81      0.87      1463\n",
      "     having dinner       0.15      0.02      0.04       863\n",
      "      having lunch       0.57      0.34      0.42       747\n",
      "  using the toilet       1.00      0.75      0.86        24\n",
      "   queuing in line       0.00      0.00      0.00        47\n",
      "           walking       0.56      0.35      0.43       209\n",
      "    walking freely       0.75      0.78      0.77      1198\n",
      "     washing hands       0.00      0.00      0.00         0\n",
      "           sitting       0.91      0.95      0.93     28389\n",
      "          standing       0.00      0.00      0.00         0\n",
      "   having a coffee       0.00      0.00      0.00       442\n",
      "             lying       0.00      0.00      0.00         0\n",
      "    using computer       0.00      0.00      0.00         0\n",
      "   desk activities       0.91      0.95      0.93     27947\n",
      "carrying something       0.50      0.31      0.38       144\n",
      "\n",
      "         micro avg       0.89      0.89      0.89     72361\n",
      "         macro avg       0.45      0.38      0.40     72361\n",
      "      weighted avg       0.88      0.89      0.88     72361\n",
      "       samples avg       0.85      0.85      0.85     72361\n",
      "\n",
      "Accuracy: 0.8146\n"
     ]
    },
    {
     "name": "stderr",
     "output_type": "stream",
     "text": [
      "/home/kavin/anaconda3/envs/python3/lib/python3.8/site-packages/sklearn/metrics/_classification.py:1272: UndefinedMetricWarning: Precision and F-score are ill-defined and being set to 0.0 in labels with no predicted samples. Use `zero_division` parameter to control this behavior.\n",
      "  _warn_prf(average, modifier, msg_start, len(result))\n",
      "/home/kavin/anaconda3/envs/python3/lib/python3.8/site-packages/sklearn/metrics/_classification.py:1272: UndefinedMetricWarning: Recall and F-score are ill-defined and being set to 0.0 in labels with no true samples. Use `zero_division` parameter to control this behavior.\n",
      "  _warn_prf(average, modifier, msg_start, len(result))\n",
      "/home/kavin/anaconda3/envs/python3/lib/python3.8/site-packages/sklearn/metrics/_classification.py:1272: UndefinedMetricWarning: Precision and F-score are ill-defined and being set to 0.0 in samples with no predicted labels. Use `zero_division` parameter to control this behavior.\n",
      "  _warn_prf(average, modifier, msg_start, len(result))\n",
      "/home/kavin/anaconda3/envs/python3/lib/python3.8/site-packages/sklearn/metrics/_classification.py:1514: UndefinedMetricWarning: F-score is ill-defined and being set to 0.0 in labels with no true nor predicted samples. Use `zero_division` parameter to control this behavior.\n",
      "  _warn_prf(\n",
      "/home/kavin/anaconda3/envs/python3/lib/python3.8/site-packages/sklearn/metrics/_classification.py:1272: UndefinedMetricWarning: Precision is ill-defined and being set to 0.0 in labels with no predicted samples. Use `zero_division` parameter to control this behavior.\n",
      "  _warn_prf(average, modifier, msg_start, len(result))\n"
     ]
    },
    {
     "name": "stdout",
     "output_type": "stream",
     "text": [
      "F1: 0.4013\n",
      "Precision: 0.4468\n"
     ]
    },
    {
     "name": "stderr",
     "output_type": "stream",
     "text": [
      "/home/kavin/anaconda3/envs/python3/lib/python3.8/site-packages/sklearn/metrics/_classification.py:1272: UndefinedMetricWarning: Recall is ill-defined and being set to 0.0 in labels with no true samples. Use `zero_division` parameter to control this behavior.\n",
      "  _warn_prf(average, modifier, msg_start, len(result))\n",
      "/home/kavin/anaconda3/envs/python3/lib/python3.8/site-packages/sklearn/metrics/_classification.py:1859: UserWarning: y_pred contains classes not in y_true\n",
      "  warnings.warn('y_pred contains classes not in y_true')\n"
     ]
    },
    {
     "name": "stdout",
     "output_type": "stream",
     "text": [
      "Recall: 0.3750\n",
      "BA: 0.4246\n",
      "Complex :\n",
      "                                  precision    recall  f1-score   support\n",
      "\n",
      "                       unlabeled       0.52      0.30      0.38      6429\n",
      "                     driving car       0.00      0.00      0.00         0\n",
      "                personal hygiene       0.52      0.05      0.09       291\n",
      "        sitting  having a coffee       0.00      0.00      0.00       442\n",
      "        sitting  desk activities       0.91      0.95      0.93     27947\n",
      "walking while carrying something       0.50      0.31      0.38       144\n",
      "           picking up mensa food       0.42      0.05      0.09       271\n",
      "           lying  using computer       0.00      0.00      0.00         0\n",
      "        discussing at whiteboard       0.00      0.00      0.00         0\n",
      "               dinner activities       0.10      0.01      0.01      1697\n",
      "                       commuting       0.84      0.48      0.61      2891\n",
      "                   lunch routine       0.55      0.28      0.37      2294\n",
      "                     office work       0.03      0.01      0.02      1422\n",
      "\n",
      "                       micro avg       0.83      0.70      0.76     43828\n",
      "                       macro avg       0.34      0.19      0.22     43828\n",
      "                    weighted avg       0.75      0.70      0.71     43828\n",
      "                     samples avg       0.70      0.70      0.70     43828\n",
      "\n",
      "Accuracy: 0.6925\n"
     ]
    },
    {
     "name": "stderr",
     "output_type": "stream",
     "text": [
      "/home/kavin/anaconda3/envs/python3/lib/python3.8/site-packages/sklearn/metrics/_classification.py:1272: UndefinedMetricWarning: Recall and F-score are ill-defined and being set to 0.0 in labels with no true samples. Use `zero_division` parameter to control this behavior.\n",
      "  _warn_prf(average, modifier, msg_start, len(result))\n",
      "/home/kavin/anaconda3/envs/python3/lib/python3.8/site-packages/sklearn/metrics/_classification.py:1272: UndefinedMetricWarning: Precision and F-score are ill-defined and being set to 0.0 in samples with no predicted labels. Use `zero_division` parameter to control this behavior.\n",
      "  _warn_prf(average, modifier, msg_start, len(result))\n"
     ]
    },
    {
     "name": "stdout",
     "output_type": "stream",
     "text": [
      "F1: 0.2211\n",
      "Precision: 0.3374\n",
      "Recall: 0.1868\n",
      "BA: 0.0867\n"
     ]
    },
    {
     "name": "stderr",
     "output_type": "stream",
     "text": [
      "/home/kavin/anaconda3/envs/python3/lib/python3.8/site-packages/sklearn/metrics/_classification.py:1272: UndefinedMetricWarning: Recall is ill-defined and being set to 0.0 in labels with no true samples. Use `zero_division` parameter to control this behavior.\n",
      "  _warn_prf(average, modifier, msg_start, len(result))\n",
      "/home/kavin/anaconda3/envs/python3/lib/python3.8/site-packages/sklearn/metrics/_classification.py:1859: UserWarning: y_pred contains classes not in y_true\n",
      "  warnings.warn('y_pred contains classes not in y_true')\n",
      "/home/kavin/anaconda3/envs/python3/lib/python3.8/site-packages/sklearn/multiclass.py:74: UserWarning: Label not 8 is present in all training examples.\n",
      "  warnings.warn(\"Label %s is present in all training examples.\" %\n",
      "/home/kavin/anaconda3/envs/python3/lib/python3.8/site-packages/sklearn/multiclass.py:74: UserWarning: Label not 10 is present in all training examples.\n",
      "  warnings.warn(\"Label %s is present in all training examples.\" %\n"
     ]
    },
    {
     "name": "stdout",
     "output_type": "stream",
     "text": [
      "Fold : 3\n",
      "Simple :\n",
      "                    precision    recall  f1-score   support\n",
      "\n",
      "         unlabeled       0.65      0.84      0.74      8430\n",
      "      driving bike       0.00      0.00      0.00         0\n",
      "     having dinner       0.02      0.02      0.02       422\n",
      "      having lunch       0.82      0.17      0.29       691\n",
      "  using the toilet       0.00      0.00      0.00       253\n",
      "   queuing in line       0.00      0.00      0.00       515\n",
      "           walking       0.66      0.33      0.44       259\n",
      "    walking freely       0.88      0.59      0.71      1354\n",
      "     washing hands       0.00      0.00      0.00         0\n",
      "           sitting       0.95      0.91      0.93     31275\n",
      "          standing       0.00      0.00      0.00         0\n",
      "   having a coffee       0.00      0.00      0.00         0\n",
      "             lying       0.00      0.00      0.00         0\n",
      "    using computer       0.00      0.00      0.00         0\n",
      "   desk activities       0.95      0.88      0.92     29239\n",
      "carrying something       0.00      0.00      0.00         0\n",
      "\n",
      "         micro avg       0.89      0.86      0.88     72438\n",
      "         macro avg       0.31      0.23      0.25     72438\n",
      "      weighted avg       0.90      0.86      0.87     72438\n",
      "       samples avg       0.85      0.84      0.84     72438\n",
      "\n",
      "Accuracy: 0.7799\n"
     ]
    },
    {
     "name": "stderr",
     "output_type": "stream",
     "text": [
      "/home/kavin/anaconda3/envs/python3/lib/python3.8/site-packages/sklearn/metrics/_classification.py:1272: UndefinedMetricWarning: Precision and F-score are ill-defined and being set to 0.0 in labels with no predicted samples. Use `zero_division` parameter to control this behavior.\n",
      "  _warn_prf(average, modifier, msg_start, len(result))\n",
      "/home/kavin/anaconda3/envs/python3/lib/python3.8/site-packages/sklearn/metrics/_classification.py:1272: UndefinedMetricWarning: Recall and F-score are ill-defined and being set to 0.0 in labels with no true samples. Use `zero_division` parameter to control this behavior.\n",
      "  _warn_prf(average, modifier, msg_start, len(result))\n",
      "/home/kavin/anaconda3/envs/python3/lib/python3.8/site-packages/sklearn/metrics/_classification.py:1272: UndefinedMetricWarning: Precision and F-score are ill-defined and being set to 0.0 in samples with no predicted labels. Use `zero_division` parameter to control this behavior.\n",
      "  _warn_prf(average, modifier, msg_start, len(result))\n",
      "/home/kavin/anaconda3/envs/python3/lib/python3.8/site-packages/sklearn/metrics/_classification.py:1514: UndefinedMetricWarning: F-score is ill-defined and being set to 0.0 in labels with no true nor predicted samples. Use `zero_division` parameter to control this behavior.\n",
      "  _warn_prf(\n",
      "/home/kavin/anaconda3/envs/python3/lib/python3.8/site-packages/sklearn/metrics/_classification.py:1272: UndefinedMetricWarning: Precision is ill-defined and being set to 0.0 in labels with no predicted samples. Use `zero_division` parameter to control this behavior.\n",
      "  _warn_prf(average, modifier, msg_start, len(result))\n",
      "/home/kavin/anaconda3/envs/python3/lib/python3.8/site-packages/sklearn/metrics/_classification.py:1272: UndefinedMetricWarning: Recall is ill-defined and being set to 0.0 in labels with no true samples. Use `zero_division` parameter to control this behavior.\n",
      "  _warn_prf(average, modifier, msg_start, len(result))\n"
     ]
    },
    {
     "name": "stdout",
     "output_type": "stream",
     "text": [
      "F1: 0.2520\n",
      "Precision: 0.3081\n",
      "Recall: 0.2345\n"
     ]
    },
    {
     "name": "stderr",
     "output_type": "stream",
     "text": [
      "/home/kavin/anaconda3/envs/python3/lib/python3.8/site-packages/sklearn/metrics/_classification.py:1859: UserWarning: y_pred contains classes not in y_true\n",
      "  warnings.warn('y_pred contains classes not in y_true')\n"
     ]
    },
    {
     "name": "stdout",
     "output_type": "stream",
     "text": [
      "BA: 0.3469\n",
      "Complex :\n",
      "                                  precision    recall  f1-score   support\n",
      "\n",
      "                       unlabeled       0.42      0.30      0.35      6126\n",
      "                     driving car       0.93      0.74      0.82      2036\n",
      "                personal hygiene       0.00      0.00      0.00         0\n",
      "        sitting  having a coffee       0.00      0.00      0.00         0\n",
      "        sitting  desk activities       0.95      0.88      0.92     29239\n",
      "walking while carrying something       0.00      0.00      0.00         0\n",
      "           picking up mensa food       0.02      0.03      0.02       120\n",
      "           lying  using computer       0.00      0.00      0.00         0\n",
      "        discussing at whiteboard       0.00      0.00      0.00         0\n",
      "               dinner activities       0.14      0.08      0.11       814\n",
      "                       commuting       0.17      0.11      0.13       941\n",
      "                   lunch routine       0.74      0.31      0.43      2956\n",
      "                     office work       0.03      0.02      0.02       967\n",
      "\n",
      "                       micro avg       0.82      0.70      0.76     43199\n",
      "                       macro avg       0.26      0.19      0.22     43199\n",
      "                    weighted avg       0.80      0.70      0.74     43199\n",
      "                     samples avg       0.69      0.70      0.69     43199\n",
      "\n",
      "Accuracy: 0.6787\n"
     ]
    },
    {
     "name": "stderr",
     "output_type": "stream",
     "text": [
      "/home/kavin/anaconda3/envs/python3/lib/python3.8/site-packages/sklearn/metrics/_classification.py:1272: UndefinedMetricWarning: Precision and F-score are ill-defined and being set to 0.0 in labels with no predicted samples. Use `zero_division` parameter to control this behavior.\n",
      "  _warn_prf(average, modifier, msg_start, len(result))\n",
      "/home/kavin/anaconda3/envs/python3/lib/python3.8/site-packages/sklearn/metrics/_classification.py:1272: UndefinedMetricWarning: Recall and F-score are ill-defined and being set to 0.0 in labels with no true samples. Use `zero_division` parameter to control this behavior.\n",
      "  _warn_prf(average, modifier, msg_start, len(result))\n",
      "/home/kavin/anaconda3/envs/python3/lib/python3.8/site-packages/sklearn/metrics/_classification.py:1272: UndefinedMetricWarning: Precision and F-score are ill-defined and being set to 0.0 in samples with no predicted labels. Use `zero_division` parameter to control this behavior.\n",
      "  _warn_prf(average, modifier, msg_start, len(result))\n",
      "/home/kavin/anaconda3/envs/python3/lib/python3.8/site-packages/sklearn/metrics/_classification.py:1514: UndefinedMetricWarning: F-score is ill-defined and being set to 0.0 in labels with no true nor predicted samples. Use `zero_division` parameter to control this behavior.\n",
      "  _warn_prf(\n"
     ]
    },
    {
     "name": "stdout",
     "output_type": "stream",
     "text": [
      "F1: 0.2156\n",
      "Precision: 0.2608\n",
      "Recall: 0.1898\n",
      "BA: 0.0914\n"
     ]
    },
    {
     "name": "stderr",
     "output_type": "stream",
     "text": [
      "/home/kavin/anaconda3/envs/python3/lib/python3.8/site-packages/sklearn/metrics/_classification.py:1272: UndefinedMetricWarning: Precision is ill-defined and being set to 0.0 in labels with no predicted samples. Use `zero_division` parameter to control this behavior.\n",
      "  _warn_prf(average, modifier, msg_start, len(result))\n",
      "/home/kavin/anaconda3/envs/python3/lib/python3.8/site-packages/sklearn/metrics/_classification.py:1272: UndefinedMetricWarning: Recall is ill-defined and being set to 0.0 in labels with no true samples. Use `zero_division` parameter to control this behavior.\n",
      "  _warn_prf(average, modifier, msg_start, len(result))\n",
      "/home/kavin/anaconda3/envs/python3/lib/python3.8/site-packages/sklearn/metrics/_classification.py:1859: UserWarning: y_pred contains classes not in y_true\n",
      "  warnings.warn('y_pred contains classes not in y_true')\n",
      "/home/kavin/anaconda3/envs/python3/lib/python3.8/site-packages/sklearn/multiclass.py:74: UserWarning: Label not 8 is present in all training examples.\n",
      "  warnings.warn(\"Label %s is present in all training examples.\" %\n",
      "/home/kavin/anaconda3/envs/python3/lib/python3.8/site-packages/sklearn/multiclass.py:74: UserWarning: Label not 10 is present in all training examples.\n",
      "  warnings.warn(\"Label %s is present in all training examples.\" %\n"
     ]
    },
    {
     "name": "stdout",
     "output_type": "stream",
     "text": [
      "Fold : 4\n",
      "Simple :\n",
      "                    precision    recall  f1-score   support\n",
      "\n",
      "         unlabeled       0.80      0.60      0.69      9488\n",
      "      driving bike       0.00      0.00      0.00         0\n",
      "     having dinner       0.32      0.08      0.13      1251\n",
      "      having lunch       0.83      0.33      0.47       452\n",
      "  using the toilet       1.00      0.07      0.13       228\n",
      "   queuing in line       0.00      0.00      0.00        90\n",
      "           walking       0.75      0.42      0.54       122\n",
      "    walking freely       0.91      0.87      0.89      1170\n",
      "     washing hands       0.00      0.00      0.00         0\n",
      "           sitting       0.83      0.94      0.88     25279\n",
      "          standing       0.00      0.00      0.00         0\n",
      "   having a coffee       0.00      0.00      0.00       255\n",
      "             lying       0.99      0.74      0.85      2869\n",
      "    using computer       0.99      0.74      0.85      2869\n",
      "   desk activities       0.82      0.95      0.88     23997\n",
      "carrying something       0.56      0.17      0.27       103\n",
      "\n",
      "         micro avg       0.83      0.85      0.84     68173\n",
      "         macro avg       0.55      0.37      0.41     68173\n",
      "      weighted avg       0.82      0.85      0.83     68173\n",
      "       samples avg       0.80      0.80      0.80     68173\n",
      "\n",
      "Accuracy: 0.7816\n"
     ]
    },
    {
     "name": "stderr",
     "output_type": "stream",
     "text": [
      "/home/kavin/anaconda3/envs/python3/lib/python3.8/site-packages/sklearn/metrics/_classification.py:1272: UndefinedMetricWarning: Precision and F-score are ill-defined and being set to 0.0 in labels with no predicted samples. Use `zero_division` parameter to control this behavior.\n",
      "  _warn_prf(average, modifier, msg_start, len(result))\n",
      "/home/kavin/anaconda3/envs/python3/lib/python3.8/site-packages/sklearn/metrics/_classification.py:1272: UndefinedMetricWarning: Recall and F-score are ill-defined and being set to 0.0 in labels with no true samples. Use `zero_division` parameter to control this behavior.\n",
      "  _warn_prf(average, modifier, msg_start, len(result))\n",
      "/home/kavin/anaconda3/envs/python3/lib/python3.8/site-packages/sklearn/metrics/_classification.py:1272: UndefinedMetricWarning: Precision and F-score are ill-defined and being set to 0.0 in samples with no predicted labels. Use `zero_division` parameter to control this behavior.\n",
      "  _warn_prf(average, modifier, msg_start, len(result))\n",
      "/home/kavin/anaconda3/envs/python3/lib/python3.8/site-packages/sklearn/metrics/_classification.py:1514: UndefinedMetricWarning: F-score is ill-defined and being set to 0.0 in labels with no true nor predicted samples. Use `zero_division` parameter to control this behavior.\n",
      "  _warn_prf(\n",
      "/home/kavin/anaconda3/envs/python3/lib/python3.8/site-packages/sklearn/metrics/_classification.py:1272: UndefinedMetricWarning: Precision is ill-defined and being set to 0.0 in labels with no predicted samples. Use `zero_division` parameter to control this behavior.\n",
      "  _warn_prf(average, modifier, msg_start, len(result))\n",
      "/home/kavin/anaconda3/envs/python3/lib/python3.8/site-packages/sklearn/metrics/_classification.py:1272: UndefinedMetricWarning: Recall is ill-defined and being set to 0.0 in labels with no true samples. Use `zero_division` parameter to control this behavior.\n",
      "  _warn_prf(average, modifier, msg_start, len(result))\n"
     ]
    },
    {
     "name": "stdout",
     "output_type": "stream",
     "text": [
      "F1: 0.4104\n",
      "Precision: 0.5501\n",
      "Recall: 0.3694\n"
     ]
    },
    {
     "name": "stderr",
     "output_type": "stream",
     "text": [
      "/home/kavin/anaconda3/envs/python3/lib/python3.8/site-packages/sklearn/metrics/_classification.py:1859: UserWarning: y_pred contains classes not in y_true\n",
      "  warnings.warn('y_pred contains classes not in y_true')\n"
     ]
    },
    {
     "name": "stdout",
     "output_type": "stream",
     "text": [
      "BA: 0.4290\n",
      "Complex :\n",
      "                                  precision    recall  f1-score   support\n",
      "\n",
      "                       unlabeled       0.29      0.21      0.24      6135\n",
      "                     driving car       0.96      0.63      0.76      1027\n",
      "                personal hygiene       0.17      0.04      0.07       181\n",
      "        sitting  having a coffee       0.00      0.00      0.00       255\n",
      "        sitting  desk activities       0.82      0.95      0.88     23997\n",
      "walking while carrying something       0.56      0.17      0.27       103\n",
      "           picking up mensa food       0.58      0.04      0.08       165\n",
      "           lying  using computer       0.99      0.74      0.85      2869\n",
      "        discussing at whiteboard       0.79      0.11      0.20      1619\n",
      "               dinner activities       0.00      0.00      0.00       597\n",
      "                       commuting       0.24      0.01      0.02       927\n",
      "                   lunch routine       0.44      0.35      0.39      1526\n",
      "                     office work       0.86      0.12      0.21      1548\n",
      "\n",
      "                       micro avg       0.75      0.68      0.71     40949\n",
      "                       macro avg       0.52      0.26      0.30     40949\n",
      "                    weighted avg       0.71      0.68      0.66     40949\n",
      "                     samples avg       0.68      0.68      0.68     40949\n",
      "\n",
      "Accuracy: 0.6737\n",
      "F1: 0.3049\n"
     ]
    },
    {
     "name": "stderr",
     "output_type": "stream",
     "text": [
      "/home/kavin/anaconda3/envs/python3/lib/python3.8/site-packages/sklearn/metrics/_classification.py:1272: UndefinedMetricWarning: Precision and F-score are ill-defined and being set to 0.0 in samples with no predicted labels. Use `zero_division` parameter to control this behavior.\n",
      "  _warn_prf(average, modifier, msg_start, len(result))\n"
     ]
    },
    {
     "name": "stdout",
     "output_type": "stream",
     "text": [
      "Precision: 0.5158\n",
      "Recall: 0.2603\n",
      "BA: 0.0724\n"
     ]
    },
    {
     "name": "stderr",
     "output_type": "stream",
     "text": [
      "/home/kavin/anaconda3/envs/python3/lib/python3.8/site-packages/sklearn/metrics/_classification.py:1859: UserWarning: y_pred contains classes not in y_true\n",
      "  warnings.warn('y_pred contains classes not in y_true')\n",
      "/home/kavin/anaconda3/envs/python3/lib/python3.8/site-packages/sklearn/multiclass.py:74: UserWarning: Label not 8 is present in all training examples.\n",
      "  warnings.warn(\"Label %s is present in all training examples.\" %\n",
      "/home/kavin/anaconda3/envs/python3/lib/python3.8/site-packages/sklearn/multiclass.py:74: UserWarning: Label not 10 is present in all training examples.\n",
      "  warnings.warn(\"Label %s is present in all training examples.\" %\n"
     ]
    },
    {
     "name": "stdout",
     "output_type": "stream",
     "text": [
      "Fold : 5\n",
      "Simple :\n",
      "                    precision    recall  f1-score   support\n",
      "\n",
      "         unlabeled       0.81      0.56      0.66     11424\n",
      "      driving bike       0.95      0.77      0.85      1325\n",
      "     having dinner       0.01      0.00      0.00       864\n",
      "      having lunch       0.56      0.19      0.28       672\n",
      "  using the toilet       0.00      0.00      0.00         0\n",
      "   queuing in line       0.00      0.00      0.00         0\n",
      "           walking       0.56      0.39      0.46       250\n",
      "    walking freely       0.81      0.68      0.74      1250\n",
      "     washing hands       0.00      0.00      0.00         0\n",
      "           sitting       0.83      0.94      0.88     28423\n",
      "          standing       0.00      0.00      0.00         0\n",
      "   having a coffee       0.00      0.00      0.00         0\n",
      "             lying       0.00      0.00      0.00         0\n",
      "    using computer       0.00      0.00      0.00         0\n",
      "   desk activities       0.83      0.90      0.86     28423\n",
      "carrying something       0.61      0.25      0.36       250\n",
      "\n",
      "         micro avg       0.83      0.83      0.83     72881\n",
      "         macro avg       0.37      0.29      0.32     72881\n",
      "      weighted avg       0.82      0.83      0.82     72881\n",
      "       samples avg       0.79      0.78      0.78     72881\n",
      "\n",
      "Accuracy: 0.7500\n"
     ]
    },
    {
     "name": "stderr",
     "output_type": "stream",
     "text": [
      "/home/kavin/anaconda3/envs/python3/lib/python3.8/site-packages/sklearn/metrics/_classification.py:1272: UndefinedMetricWarning: Precision and F-score are ill-defined and being set to 0.0 in labels with no predicted samples. Use `zero_division` parameter to control this behavior.\n",
      "  _warn_prf(average, modifier, msg_start, len(result))\n",
      "/home/kavin/anaconda3/envs/python3/lib/python3.8/site-packages/sklearn/metrics/_classification.py:1272: UndefinedMetricWarning: Recall and F-score are ill-defined and being set to 0.0 in labels with no true samples. Use `zero_division` parameter to control this behavior.\n",
      "  _warn_prf(average, modifier, msg_start, len(result))\n",
      "/home/kavin/anaconda3/envs/python3/lib/python3.8/site-packages/sklearn/metrics/_classification.py:1272: UndefinedMetricWarning: Precision and F-score are ill-defined and being set to 0.0 in samples with no predicted labels. Use `zero_division` parameter to control this behavior.\n",
      "  _warn_prf(average, modifier, msg_start, len(result))\n",
      "/home/kavin/anaconda3/envs/python3/lib/python3.8/site-packages/sklearn/metrics/_classification.py:1514: UndefinedMetricWarning: F-score is ill-defined and being set to 0.0 in labels with no true nor predicted samples. Use `zero_division` parameter to control this behavior.\n",
      "  _warn_prf(\n",
      "/home/kavin/anaconda3/envs/python3/lib/python3.8/site-packages/sklearn/metrics/_classification.py:1272: UndefinedMetricWarning: Precision is ill-defined and being set to 0.0 in labels with no predicted samples. Use `zero_division` parameter to control this behavior.\n",
      "  _warn_prf(average, modifier, msg_start, len(result))\n"
     ]
    },
    {
     "name": "stdout",
     "output_type": "stream",
     "text": [
      "F1: 0.3187\n",
      "Precision: 0.3741\n"
     ]
    },
    {
     "name": "stderr",
     "output_type": "stream",
     "text": [
      "/home/kavin/anaconda3/envs/python3/lib/python3.8/site-packages/sklearn/metrics/_classification.py:1272: UndefinedMetricWarning: Recall is ill-defined and being set to 0.0 in labels with no true samples. Use `zero_division` parameter to control this behavior.\n",
      "  _warn_prf(average, modifier, msg_start, len(result))\n",
      "/home/kavin/anaconda3/envs/python3/lib/python3.8/site-packages/sklearn/metrics/_classification.py:1859: UserWarning: y_pred contains classes not in y_true\n",
      "  warnings.warn('y_pred contains classes not in y_true')\n"
     ]
    },
    {
     "name": "stdout",
     "output_type": "stream",
     "text": [
      "Recall: 0.2923\n",
      "BA: 0.4790\n",
      "Complex :\n",
      "                                  precision    recall  f1-score   support\n",
      "\n",
      "                       unlabeled       0.46      0.22      0.30      7316\n",
      "                     driving car       0.00      0.00      0.00         0\n",
      "                personal hygiene       0.89      0.17      0.28       391\n",
      "        sitting  having a coffee       0.00      0.00      0.00         0\n",
      "        sitting  desk activities       0.83      0.90      0.86     28423\n",
      "walking while carrying something       0.61      0.25      0.36       250\n",
      "           picking up mensa food       0.58      0.07      0.13       153\n",
      "           lying  using computer       0.00      0.00      0.00         0\n",
      "        discussing at whiteboard       0.00      0.00      0.00         0\n",
      "               dinner activities       0.19      0.02      0.03      1455\n",
      "                       commuting       0.95      0.61      0.74      2026\n",
      "                   lunch routine       0.67      0.30      0.41      2249\n",
      "                     office work       0.22      0.03      0.05      1945\n",
      "\n",
      "                       micro avg       0.77      0.66      0.71     44208\n",
      "                       macro avg       0.42      0.20      0.24     44208\n",
      "                    weighted avg       0.72      0.66      0.67     44208\n",
      "                     samples avg       0.65      0.66      0.66     44208\n",
      "\n",
      "Accuracy: 0.6480\n"
     ]
    },
    {
     "name": "stderr",
     "output_type": "stream",
     "text": [
      "/home/kavin/anaconda3/envs/python3/lib/python3.8/site-packages/sklearn/metrics/_classification.py:1272: UndefinedMetricWarning: Precision and F-score are ill-defined and being set to 0.0 in labels with no predicted samples. Use `zero_division` parameter to control this behavior.\n",
      "  _warn_prf(average, modifier, msg_start, len(result))\n",
      "/home/kavin/anaconda3/envs/python3/lib/python3.8/site-packages/sklearn/metrics/_classification.py:1272: UndefinedMetricWarning: Recall and F-score are ill-defined and being set to 0.0 in labels with no true samples. Use `zero_division` parameter to control this behavior.\n",
      "  _warn_prf(average, modifier, msg_start, len(result))\n",
      "/home/kavin/anaconda3/envs/python3/lib/python3.8/site-packages/sklearn/metrics/_classification.py:1272: UndefinedMetricWarning: Precision and F-score are ill-defined and being set to 0.0 in samples with no predicted labels. Use `zero_division` parameter to control this behavior.\n",
      "  _warn_prf(average, modifier, msg_start, len(result))\n",
      "/home/kavin/anaconda3/envs/python3/lib/python3.8/site-packages/sklearn/metrics/_classification.py:1514: UndefinedMetricWarning: F-score is ill-defined and being set to 0.0 in labels with no true nor predicted samples. Use `zero_division` parameter to control this behavior.\n",
      "  _warn_prf(\n"
     ]
    },
    {
     "name": "stdout",
     "output_type": "stream",
     "text": [
      "F1: 0.2429\n",
      "Precision: 0.4163\n",
      "Recall: 0.1964\n",
      "BA: 0.0789\n"
     ]
    },
    {
     "name": "stderr",
     "output_type": "stream",
     "text": [
      "/home/kavin/anaconda3/envs/python3/lib/python3.8/site-packages/sklearn/metrics/_classification.py:1272: UndefinedMetricWarning: Precision is ill-defined and being set to 0.0 in labels with no predicted samples. Use `zero_division` parameter to control this behavior.\n",
      "  _warn_prf(average, modifier, msg_start, len(result))\n",
      "/home/kavin/anaconda3/envs/python3/lib/python3.8/site-packages/sklearn/metrics/_classification.py:1272: UndefinedMetricWarning: Recall is ill-defined and being set to 0.0 in labels with no true samples. Use `zero_division` parameter to control this behavior.\n",
      "  _warn_prf(average, modifier, msg_start, len(result))\n",
      "/home/kavin/anaconda3/envs/python3/lib/python3.8/site-packages/sklearn/metrics/_classification.py:1859: UserWarning: y_pred contains classes not in y_true\n",
      "  warnings.warn('y_pred contains classes not in y_true')\n",
      "/home/kavin/anaconda3/envs/python3/lib/python3.8/site-packages/sklearn/multiclass.py:74: UserWarning: Label not 8 is present in all training examples.\n",
      "  warnings.warn(\"Label %s is present in all training examples.\" %\n",
      "/home/kavin/anaconda3/envs/python3/lib/python3.8/site-packages/sklearn/multiclass.py:74: UserWarning: Label not 10 is present in all training examples.\n",
      "  warnings.warn(\"Label %s is present in all training examples.\" %\n"
     ]
    },
    {
     "name": "stdout",
     "output_type": "stream",
     "text": [
      "Fold : 6\n",
      "Simple :\n",
      "                    precision    recall  f1-score   support\n",
      "\n",
      "         unlabeled       0.67      0.55      0.61     11124\n",
      "      driving bike       0.00      0.00      0.00         0\n",
      "     having dinner       0.06      0.00      0.00      1568\n",
      "      having lunch       0.13      0.29      0.18       281\n",
      "  using the toilet       0.00      0.00      0.00       370\n",
      "   queuing in line       0.06      0.00      0.01       372\n",
      "           walking       0.94      0.71      0.81       630\n",
      "    walking freely       0.82      0.76      0.79       670\n",
      "     washing hands       0.00      0.00      0.00         0\n",
      "           sitting       0.80      0.89      0.84     26226\n",
      "          standing       0.00      0.00      0.00         0\n",
      "   having a coffee       0.00      0.00      0.00       220\n",
      "             lying       0.00      0.00      0.00         0\n",
      "    using computer       0.00      0.00      0.00         0\n",
      "   desk activities       0.79      0.88      0.84     24903\n",
      "carrying something       0.10      0.08      0.09       106\n",
      "\n",
      "         micro avg       0.77      0.79      0.78     66470\n",
      "         macro avg       0.27      0.26      0.26     66470\n",
      "      weighted avg       0.75      0.79      0.76     66470\n",
      "       samples avg       0.73      0.74      0.73     66470\n",
      "\n",
      "Accuracy: 0.6982\n"
     ]
    },
    {
     "name": "stderr",
     "output_type": "stream",
     "text": [
      "/home/kavin/anaconda3/envs/python3/lib/python3.8/site-packages/sklearn/metrics/_classification.py:1272: UndefinedMetricWarning: Precision and F-score are ill-defined and being set to 0.0 in labels with no predicted samples. Use `zero_division` parameter to control this behavior.\n",
      "  _warn_prf(average, modifier, msg_start, len(result))\n",
      "/home/kavin/anaconda3/envs/python3/lib/python3.8/site-packages/sklearn/metrics/_classification.py:1272: UndefinedMetricWarning: Recall and F-score are ill-defined and being set to 0.0 in labels with no true samples. Use `zero_division` parameter to control this behavior.\n",
      "  _warn_prf(average, modifier, msg_start, len(result))\n",
      "/home/kavin/anaconda3/envs/python3/lib/python3.8/site-packages/sklearn/metrics/_classification.py:1272: UndefinedMetricWarning: Precision and F-score are ill-defined and being set to 0.0 in samples with no predicted labels. Use `zero_division` parameter to control this behavior.\n",
      "  _warn_prf(average, modifier, msg_start, len(result))\n",
      "/home/kavin/anaconda3/envs/python3/lib/python3.8/site-packages/sklearn/metrics/_classification.py:1514: UndefinedMetricWarning: F-score is ill-defined and being set to 0.0 in labels with no true nor predicted samples. Use `zero_division` parameter to control this behavior.\n",
      "  _warn_prf(\n",
      "/home/kavin/anaconda3/envs/python3/lib/python3.8/site-packages/sklearn/metrics/_classification.py:1272: UndefinedMetricWarning: Precision is ill-defined and being set to 0.0 in labels with no predicted samples. Use `zero_division` parameter to control this behavior.\n",
      "  _warn_prf(average, modifier, msg_start, len(result))\n",
      "/home/kavin/anaconda3/envs/python3/lib/python3.8/site-packages/sklearn/metrics/_classification.py:1272: UndefinedMetricWarning: Recall is ill-defined and being set to 0.0 in labels with no true samples. Use `zero_division` parameter to control this behavior.\n",
      "  _warn_prf(average, modifier, msg_start, len(result))\n"
     ]
    },
    {
     "name": "stdout",
     "output_type": "stream",
     "text": [
      "F1: 0.2597\n",
      "Precision: 0.2728\n",
      "Recall: 0.2607\n"
     ]
    },
    {
     "name": "stderr",
     "output_type": "stream",
     "text": [
      "/home/kavin/anaconda3/envs/python3/lib/python3.8/site-packages/sklearn/metrics/_classification.py:1859: UserWarning: y_pred contains classes not in y_true\n",
      "  warnings.warn('y_pred contains classes not in y_true')\n"
     ]
    },
    {
     "name": "stdout",
     "output_type": "stream",
     "text": [
      "BA: 0.3973\n",
      "Complex :\n",
      "                                  precision    recall  f1-score   support\n",
      "\n",
      "                       unlabeled       0.35      0.23      0.28      8386\n",
      "                     driving car       0.97      0.79      0.87      1103\n",
      "                personal hygiene       0.00      0.00      0.00         0\n",
      "        sitting  having a coffee       0.00      0.00      0.00       220\n",
      "        sitting  desk activities       0.79      0.88      0.84     24903\n",
      "walking while carrying something       0.10      0.08      0.09       106\n",
      "           picking up mensa food       0.44      0.01      0.03       311\n",
      "           lying  using computer       0.00      0.00      0.00         0\n",
      "        discussing at whiteboard       0.00      0.00      0.00         0\n",
      "               dinner activities       0.08      0.00      0.01      1905\n",
      "                       commuting       0.60      0.09      0.16       917\n",
      "                   lunch routine       0.32      0.23      0.27      1892\n",
      "                     office work       0.17      0.03      0.05      1498\n",
      "\n",
      "                       micro avg       0.70      0.62      0.66     41241\n",
      "                       macro avg       0.30      0.18      0.20     41241\n",
      "                    weighted avg       0.62      0.62      0.60     41241\n",
      "                     samples avg       0.61      0.62      0.61     41241\n",
      "\n",
      "Accuracy: 0.6065\n",
      "F1: 0.1993\n"
     ]
    },
    {
     "name": "stderr",
     "output_type": "stream",
     "text": [
      "/home/kavin/anaconda3/envs/python3/lib/python3.8/site-packages/sklearn/metrics/_classification.py:1272: UndefinedMetricWarning: Recall and F-score are ill-defined and being set to 0.0 in labels with no true samples. Use `zero_division` parameter to control this behavior.\n",
      "  _warn_prf(average, modifier, msg_start, len(result))\n",
      "/home/kavin/anaconda3/envs/python3/lib/python3.8/site-packages/sklearn/metrics/_classification.py:1272: UndefinedMetricWarning: Precision and F-score are ill-defined and being set to 0.0 in samples with no predicted labels. Use `zero_division` parameter to control this behavior.\n",
      "  _warn_prf(average, modifier, msg_start, len(result))\n"
     ]
    },
    {
     "name": "stdout",
     "output_type": "stream",
     "text": [
      "Precision: 0.2956\n",
      "Recall: 0.1808\n",
      "BA: 0.0708\n",
      "Simple Acc: 0.7204664864647036\n",
      "Simple F1: 0.3119626340044849\n",
      "Simple Prec: 0.37721983283479915\n",
      "Simple Rec: 0.28984713293217074\n",
      "Simple BA: 0.4122453389320291\n",
      "Complex Acc: 0.6055037892426655\n",
      "Complex F1: 0.23007331478791762\n",
      "Complex Prec: 0.35970858414919676\n",
      "Complex Rec: 0.20117753366556482\n",
      "Complex BA: 0.08567633363899459\n"
     ]
    },
    {
     "name": "stderr",
     "output_type": "stream",
     "text": [
      "/home/kavin/anaconda3/envs/python3/lib/python3.8/site-packages/sklearn/metrics/_classification.py:1272: UndefinedMetricWarning: Recall is ill-defined and being set to 0.0 in labels with no true samples. Use `zero_division` parameter to control this behavior.\n",
      "  _warn_prf(average, modifier, msg_start, len(result))\n",
      "/home/kavin/anaconda3/envs/python3/lib/python3.8/site-packages/sklearn/metrics/_classification.py:1859: UserWarning: y_pred contains classes not in y_true\n",
      "  warnings.warn('y_pred contains classes not in y_true')\n"
     ]
    }
   ],
   "source": [
    "sa_acc_list, sa_f1_list, sa_prec_list, sa_rec_list, sa_ba_list, ca_acc_list, ca_f1_list, ca_prec_list, ca_rec_list, ca_ba_list = [], [], [], [], [], [], [], [], [], []\n",
    "\n",
    "for fold_idx in range(7):\n",
    "    \n",
    "    x_train, y_simple_train, y_complex_train, x_test, y_simple_test, y_complex_test = [], [], [], [], [], []\n",
    "\n",
    "    test_df = data_df[data_df.day == test_days_list[fold_idx]]\n",
    "\n",
    "    train_df = data_df[data_df.day != test_days_list[fold_idx]]\n",
    "\n",
    "    x_train = train_df.iloc[:, [0, 1, 2, 3, 4, 5, 6, 7, 8, 9, 10, 11, 46, 47]].values\n",
    "    y_simple_train = train_df.iloc[:, 13:29].values\n",
    "    y_complex_train = train_df.iloc[:, 29:42].values\n",
    "    x_test = test_df.iloc[:, [0, 1, 2, 3, 4, 5, 6, 7, 8, 9, 10, 11, 46, 47]].values\n",
    "    y_simple_test = test_df.iloc[:, 13:29].values\n",
    "    y_complex_test = test_df.iloc[:, 29:42].values\n",
    "    \n",
    "    \n",
    "    num_classes = len(new_simple_act)\n",
    "    clf = OneVsRestClassifier(XGBClassifier(n_jobs=-1, max_depth=4))\n",
    "    clf.fit(x_train, y_simple_train)\n",
    "    predictions = clf.predict(x_test)\n",
    "    print(\"Fold : {}\".format(fold_idx))\n",
    "    print(\"Simple :\")\n",
    "    print(classification_report(y_simple_test, predictions, target_names = new_simple_act))\n",
    "    accuracy = accuracy_score(y_simple_test, predictions)\n",
    "    print(\"Accuracy: %.4f\" % (accuracy))\n",
    "    sa_acc_list.append(accuracy)\n",
    "    f1 = f1_score(y_simple_test, predictions, average='macro')\n",
    "    print(\"F1: %.4f\" % (f1))\n",
    "    sa_f1_list.append(f1)\n",
    "    prec = precision_score(y_simple_test, predictions, average='macro')\n",
    "    print(\"Precision: %.4f\" % (prec))\n",
    "    sa_prec_list.append(prec)\n",
    "    recall = recall_score(y_simple_test, predictions, average='macro')\n",
    "    print(\"Recall: %.4f\" % (recall))\n",
    "    sa_rec_list.append(recall)\n",
    "    ba = balanced_accuracy_score(np.argmax(y_simple_test, axis = 1), np.argmax(predictions, axis = 1))\n",
    "    print(\"BA: %.4f\" % (ba))\n",
    "    sa_ba_list.append(ba)\n",
    "    \n",
    "    num_classes = len(new_complex_act)\n",
    "    clf = OneVsRestClassifier(XGBClassifier(n_jobs=-1, max_depth=4))\n",
    "    clf.fit(x_train, y_complex_train)\n",
    "    predictions = clf.predict(x_test)\n",
    "    print(\"Complex :\")\n",
    "    print(classification_report(y_complex_test, predictions, target_names = new_complex_act))\n",
    "    accuracy = accuracy_score(y_complex_test, predictions)\n",
    "    print(\"Accuracy: %.4f\" % (accuracy))\n",
    "    ca_acc_list.append(accuracy)\n",
    "    f1 = f1_score(y_complex_test, predictions, average='macro')\n",
    "    print(\"F1: %.4f\" % (f1))\n",
    "    ca_f1_list.append(f1)\n",
    "    prec = precision_score(y_complex_test, predictions, average='macro')\n",
    "    print(\"Precision: %.4f\" % (prec))\n",
    "    ca_prec_list.append(prec)\n",
    "    recall = recall_score(y_complex_test, predictions, average='macro')\n",
    "    print(\"Recall: %.4f\" % (recall ))\n",
    "    ca_rec_list.append(recall)\n",
    "    ba = balanced_accuracy_score(np.argmax(y_simple_test, axis = 1), np.argmax(predictions, axis = 1))\n",
    "    print(\"BA: %.4f\" % (ba))\n",
    "    ca_ba_list.append(ba)\n",
    "print(\"Simple Acc: {}\".format(np.mean(sa_acc_list)))\n",
    "print(\"Simple F1: {}\".format(np.mean(sa_f1_list)))\n",
    "print(\"Simple Prec: {}\".format(np.mean(sa_prec_list)))\n",
    "print(\"Simple Rec: {}\".format(np.mean(sa_rec_list)))\n",
    "print(\"Simple BA: {}\".format(np.mean(sa_ba_list)))\n",
    "\n",
    "print(\"Complex Acc: {}\".format(np.mean(ca_acc_list)))\n",
    "print(\"Complex F1: {}\".format(np.mean(ca_f1_list)))\n",
    "print(\"Complex Prec: {}\".format(np.mean(ca_prec_list)))\n",
    "print(\"Complex Rec: {}\".format(np.mean(ca_rec_list)))\n",
    "print(\"Complex BA: {}\".format(np.mean(ca_ba_list)))"
   ]
  },
  {
   "cell_type": "code",
   "execution_count": null,
   "metadata": {},
   "outputs": [],
   "source": []
  },
  {
   "cell_type": "code",
   "execution_count": null,
   "metadata": {},
   "outputs": [],
   "source": []
  },
  {
   "cell_type": "code",
   "execution_count": null,
   "metadata": {},
   "outputs": [],
   "source": []
  },
  {
   "cell_type": "code",
   "execution_count": null,
   "metadata": {},
   "outputs": [],
   "source": []
  },
  {
   "cell_type": "code",
   "execution_count": null,
   "metadata": {},
   "outputs": [],
   "source": []
  }
 ],
 "metadata": {
  "kernelspec": {
   "display_name": "Python 3",
   "language": "python",
   "name": "python3"
  },
  "language_info": {
   "codemirror_mode": {
    "name": "ipython",
    "version": 3
   },
   "file_extension": ".py",
   "mimetype": "text/x-python",
   "name": "python",
   "nbconvert_exporter": "python",
   "pygments_lexer": "ipython3",
   "version": "3.7.4"
  }
 },
 "nbformat": 4,
 "nbformat_minor": 4
}
